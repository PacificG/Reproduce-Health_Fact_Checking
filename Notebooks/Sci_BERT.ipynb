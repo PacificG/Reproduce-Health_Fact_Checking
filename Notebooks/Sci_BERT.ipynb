{
  "nbformat": 4,
  "nbformat_minor": 0,
  "metadata": {
    "colab": {
      "name": "Sci_BERT.ipynb",
      "provenance": [],
      "collapsed_sections": [],
      "toc_visible": true
    },
    "kernelspec": {
      "display_name": "Python 3",
      "name": "python3"
    },
    "language_info": {
      "name": "python"
    },
    "widgets": {
      "application/vnd.jupyter.widget-state+json": {
        "64c7fc4a83f2419182742e1258ed6a90": {
          "model_module": "@jupyter-widgets/controls",
          "model_name": "HBoxModel",
          "state": {
            "_view_name": "HBoxView",
            "_dom_classes": [],
            "_model_name": "HBoxModel",
            "_view_module": "@jupyter-widgets/controls",
            "_model_module_version": "1.5.0",
            "_view_count": null,
            "_view_module_version": "1.5.0",
            "box_style": "",
            "layout": "IPY_MODEL_1b645cb4e368433997fde45e31e7b438",
            "_model_module": "@jupyter-widgets/controls",
            "children": [
              "IPY_MODEL_9a7c70f0f15147fbaf99e62b9487c66d",
              "IPY_MODEL_3bbbc4ba1e784f37be692e036309bbfa"
            ]
          }
        },
        "1b645cb4e368433997fde45e31e7b438": {
          "model_module": "@jupyter-widgets/base",
          "model_name": "LayoutModel",
          "state": {
            "_view_name": "LayoutView",
            "grid_template_rows": null,
            "right": null,
            "justify_content": null,
            "_view_module": "@jupyter-widgets/base",
            "overflow": null,
            "_model_module_version": "1.2.0",
            "_view_count": null,
            "flex_flow": null,
            "width": null,
            "min_width": null,
            "border": null,
            "align_items": null,
            "bottom": null,
            "_model_module": "@jupyter-widgets/base",
            "top": null,
            "grid_column": null,
            "overflow_y": null,
            "overflow_x": null,
            "grid_auto_flow": null,
            "grid_area": null,
            "grid_template_columns": null,
            "flex": null,
            "_model_name": "LayoutModel",
            "justify_items": null,
            "grid_row": null,
            "max_height": null,
            "align_content": null,
            "visibility": null,
            "align_self": null,
            "height": null,
            "min_height": null,
            "padding": null,
            "grid_auto_rows": null,
            "grid_gap": null,
            "max_width": null,
            "order": null,
            "_view_module_version": "1.2.0",
            "grid_template_areas": null,
            "object_position": null,
            "object_fit": null,
            "grid_auto_columns": null,
            "margin": null,
            "display": null,
            "left": null
          }
        },
        "9a7c70f0f15147fbaf99e62b9487c66d": {
          "model_module": "@jupyter-widgets/controls",
          "model_name": "FloatProgressModel",
          "state": {
            "_view_name": "ProgressView",
            "style": "IPY_MODEL_3b319d3931d1491fa3685d9cd6d9a2dc",
            "_dom_classes": [],
            "description": "Downloading: 100%",
            "_model_name": "FloatProgressModel",
            "bar_style": "success",
            "max": 385,
            "_view_module": "@jupyter-widgets/controls",
            "_model_module_version": "1.5.0",
            "value": 385,
            "_view_count": null,
            "_view_module_version": "1.5.0",
            "orientation": "horizontal",
            "min": 0,
            "description_tooltip": null,
            "_model_module": "@jupyter-widgets/controls",
            "layout": "IPY_MODEL_7d9b9402be26473ba4c94c7b9330c5be"
          }
        },
        "3bbbc4ba1e784f37be692e036309bbfa": {
          "model_module": "@jupyter-widgets/controls",
          "model_name": "HTMLModel",
          "state": {
            "_view_name": "HTMLView",
            "style": "IPY_MODEL_29c07674478a4461a97d3c69d61c8f25",
            "_dom_classes": [],
            "description": "",
            "_model_name": "HTMLModel",
            "placeholder": "​",
            "_view_module": "@jupyter-widgets/controls",
            "_model_module_version": "1.5.0",
            "value": " 385/385 [00:00&lt;00:00, 625B/s]",
            "_view_count": null,
            "_view_module_version": "1.5.0",
            "description_tooltip": null,
            "_model_module": "@jupyter-widgets/controls",
            "layout": "IPY_MODEL_82e83144284044689869f334047ebb53"
          }
        },
        "3b319d3931d1491fa3685d9cd6d9a2dc": {
          "model_module": "@jupyter-widgets/controls",
          "model_name": "ProgressStyleModel",
          "state": {
            "_view_name": "StyleView",
            "_model_name": "ProgressStyleModel",
            "description_width": "initial",
            "_view_module": "@jupyter-widgets/base",
            "_model_module_version": "1.5.0",
            "_view_count": null,
            "_view_module_version": "1.2.0",
            "bar_color": null,
            "_model_module": "@jupyter-widgets/controls"
          }
        },
        "7d9b9402be26473ba4c94c7b9330c5be": {
          "model_module": "@jupyter-widgets/base",
          "model_name": "LayoutModel",
          "state": {
            "_view_name": "LayoutView",
            "grid_template_rows": null,
            "right": null,
            "justify_content": null,
            "_view_module": "@jupyter-widgets/base",
            "overflow": null,
            "_model_module_version": "1.2.0",
            "_view_count": null,
            "flex_flow": null,
            "width": null,
            "min_width": null,
            "border": null,
            "align_items": null,
            "bottom": null,
            "_model_module": "@jupyter-widgets/base",
            "top": null,
            "grid_column": null,
            "overflow_y": null,
            "overflow_x": null,
            "grid_auto_flow": null,
            "grid_area": null,
            "grid_template_columns": null,
            "flex": null,
            "_model_name": "LayoutModel",
            "justify_items": null,
            "grid_row": null,
            "max_height": null,
            "align_content": null,
            "visibility": null,
            "align_self": null,
            "height": null,
            "min_height": null,
            "padding": null,
            "grid_auto_rows": null,
            "grid_gap": null,
            "max_width": null,
            "order": null,
            "_view_module_version": "1.2.0",
            "grid_template_areas": null,
            "object_position": null,
            "object_fit": null,
            "grid_auto_columns": null,
            "margin": null,
            "display": null,
            "left": null
          }
        },
        "29c07674478a4461a97d3c69d61c8f25": {
          "model_module": "@jupyter-widgets/controls",
          "model_name": "DescriptionStyleModel",
          "state": {
            "_view_name": "StyleView",
            "_model_name": "DescriptionStyleModel",
            "description_width": "",
            "_view_module": "@jupyter-widgets/base",
            "_model_module_version": "1.5.0",
            "_view_count": null,
            "_view_module_version": "1.2.0",
            "_model_module": "@jupyter-widgets/controls"
          }
        },
        "82e83144284044689869f334047ebb53": {
          "model_module": "@jupyter-widgets/base",
          "model_name": "LayoutModel",
          "state": {
            "_view_name": "LayoutView",
            "grid_template_rows": null,
            "right": null,
            "justify_content": null,
            "_view_module": "@jupyter-widgets/base",
            "overflow": null,
            "_model_module_version": "1.2.0",
            "_view_count": null,
            "flex_flow": null,
            "width": null,
            "min_width": null,
            "border": null,
            "align_items": null,
            "bottom": null,
            "_model_module": "@jupyter-widgets/base",
            "top": null,
            "grid_column": null,
            "overflow_y": null,
            "overflow_x": null,
            "grid_auto_flow": null,
            "grid_area": null,
            "grid_template_columns": null,
            "flex": null,
            "_model_name": "LayoutModel",
            "justify_items": null,
            "grid_row": null,
            "max_height": null,
            "align_content": null,
            "visibility": null,
            "align_self": null,
            "height": null,
            "min_height": null,
            "padding": null,
            "grid_auto_rows": null,
            "grid_gap": null,
            "max_width": null,
            "order": null,
            "_view_module_version": "1.2.0",
            "grid_template_areas": null,
            "object_position": null,
            "object_fit": null,
            "grid_auto_columns": null,
            "margin": null,
            "display": null,
            "left": null
          }
        },
        "d481c471bdf848bb8d45e79b3efabe2f": {
          "model_module": "@jupyter-widgets/controls",
          "model_name": "HBoxModel",
          "state": {
            "_view_name": "HBoxView",
            "_dom_classes": [],
            "_model_name": "HBoxModel",
            "_view_module": "@jupyter-widgets/controls",
            "_model_module_version": "1.5.0",
            "_view_count": null,
            "_view_module_version": "1.5.0",
            "box_style": "",
            "layout": "IPY_MODEL_92946476b9f84201a7921966a5a3d19c",
            "_model_module": "@jupyter-widgets/controls",
            "children": [
              "IPY_MODEL_2d894b8d7da54c3f9c376584f859e905",
              "IPY_MODEL_b309f81ac21146c1be6337564294653d"
            ]
          }
        },
        "92946476b9f84201a7921966a5a3d19c": {
          "model_module": "@jupyter-widgets/base",
          "model_name": "LayoutModel",
          "state": {
            "_view_name": "LayoutView",
            "grid_template_rows": null,
            "right": null,
            "justify_content": null,
            "_view_module": "@jupyter-widgets/base",
            "overflow": null,
            "_model_module_version": "1.2.0",
            "_view_count": null,
            "flex_flow": null,
            "width": null,
            "min_width": null,
            "border": null,
            "align_items": null,
            "bottom": null,
            "_model_module": "@jupyter-widgets/base",
            "top": null,
            "grid_column": null,
            "overflow_y": null,
            "overflow_x": null,
            "grid_auto_flow": null,
            "grid_area": null,
            "grid_template_columns": null,
            "flex": null,
            "_model_name": "LayoutModel",
            "justify_items": null,
            "grid_row": null,
            "max_height": null,
            "align_content": null,
            "visibility": null,
            "align_self": null,
            "height": null,
            "min_height": null,
            "padding": null,
            "grid_auto_rows": null,
            "grid_gap": null,
            "max_width": null,
            "order": null,
            "_view_module_version": "1.2.0",
            "grid_template_areas": null,
            "object_position": null,
            "object_fit": null,
            "grid_auto_columns": null,
            "margin": null,
            "display": null,
            "left": null
          }
        },
        "2d894b8d7da54c3f9c376584f859e905": {
          "model_module": "@jupyter-widgets/controls",
          "model_name": "FloatProgressModel",
          "state": {
            "_view_name": "ProgressView",
            "style": "IPY_MODEL_1bb61192554345bf8962abf1def867ed",
            "_dom_classes": [],
            "description": "Downloading: 100%",
            "_model_name": "FloatProgressModel",
            "bar_style": "success",
            "max": 227845,
            "_view_module": "@jupyter-widgets/controls",
            "_model_module_version": "1.5.0",
            "value": 227845,
            "_view_count": null,
            "_view_module_version": "1.5.0",
            "orientation": "horizontal",
            "min": 0,
            "description_tooltip": null,
            "_model_module": "@jupyter-widgets/controls",
            "layout": "IPY_MODEL_656f77bb1cec4783a807aeaae783dd02"
          }
        },
        "b309f81ac21146c1be6337564294653d": {
          "model_module": "@jupyter-widgets/controls",
          "model_name": "HTMLModel",
          "state": {
            "_view_name": "HTMLView",
            "style": "IPY_MODEL_5cc0c9ea4c5b41329ff7adad88eeb6b7",
            "_dom_classes": [],
            "description": "",
            "_model_name": "HTMLModel",
            "placeholder": "​",
            "_view_module": "@jupyter-widgets/controls",
            "_model_module_version": "1.5.0",
            "value": " 228k/228k [00:01&lt;00:00, 174kB/s]",
            "_view_count": null,
            "_view_module_version": "1.5.0",
            "description_tooltip": null,
            "_model_module": "@jupyter-widgets/controls",
            "layout": "IPY_MODEL_c9e19f6104cb40a18ed141aad5e792b3"
          }
        },
        "1bb61192554345bf8962abf1def867ed": {
          "model_module": "@jupyter-widgets/controls",
          "model_name": "ProgressStyleModel",
          "state": {
            "_view_name": "StyleView",
            "_model_name": "ProgressStyleModel",
            "description_width": "initial",
            "_view_module": "@jupyter-widgets/base",
            "_model_module_version": "1.5.0",
            "_view_count": null,
            "_view_module_version": "1.2.0",
            "bar_color": null,
            "_model_module": "@jupyter-widgets/controls"
          }
        },
        "656f77bb1cec4783a807aeaae783dd02": {
          "model_module": "@jupyter-widgets/base",
          "model_name": "LayoutModel",
          "state": {
            "_view_name": "LayoutView",
            "grid_template_rows": null,
            "right": null,
            "justify_content": null,
            "_view_module": "@jupyter-widgets/base",
            "overflow": null,
            "_model_module_version": "1.2.0",
            "_view_count": null,
            "flex_flow": null,
            "width": null,
            "min_width": null,
            "border": null,
            "align_items": null,
            "bottom": null,
            "_model_module": "@jupyter-widgets/base",
            "top": null,
            "grid_column": null,
            "overflow_y": null,
            "overflow_x": null,
            "grid_auto_flow": null,
            "grid_area": null,
            "grid_template_columns": null,
            "flex": null,
            "_model_name": "LayoutModel",
            "justify_items": null,
            "grid_row": null,
            "max_height": null,
            "align_content": null,
            "visibility": null,
            "align_self": null,
            "height": null,
            "min_height": null,
            "padding": null,
            "grid_auto_rows": null,
            "grid_gap": null,
            "max_width": null,
            "order": null,
            "_view_module_version": "1.2.0",
            "grid_template_areas": null,
            "object_position": null,
            "object_fit": null,
            "grid_auto_columns": null,
            "margin": null,
            "display": null,
            "left": null
          }
        },
        "5cc0c9ea4c5b41329ff7adad88eeb6b7": {
          "model_module": "@jupyter-widgets/controls",
          "model_name": "DescriptionStyleModel",
          "state": {
            "_view_name": "StyleView",
            "_model_name": "DescriptionStyleModel",
            "description_width": "",
            "_view_module": "@jupyter-widgets/base",
            "_model_module_version": "1.5.0",
            "_view_count": null,
            "_view_module_version": "1.2.0",
            "_model_module": "@jupyter-widgets/controls"
          }
        },
        "c9e19f6104cb40a18ed141aad5e792b3": {
          "model_module": "@jupyter-widgets/base",
          "model_name": "LayoutModel",
          "state": {
            "_view_name": "LayoutView",
            "grid_template_rows": null,
            "right": null,
            "justify_content": null,
            "_view_module": "@jupyter-widgets/base",
            "overflow": null,
            "_model_module_version": "1.2.0",
            "_view_count": null,
            "flex_flow": null,
            "width": null,
            "min_width": null,
            "border": null,
            "align_items": null,
            "bottom": null,
            "_model_module": "@jupyter-widgets/base",
            "top": null,
            "grid_column": null,
            "overflow_y": null,
            "overflow_x": null,
            "grid_auto_flow": null,
            "grid_area": null,
            "grid_template_columns": null,
            "flex": null,
            "_model_name": "LayoutModel",
            "justify_items": null,
            "grid_row": null,
            "max_height": null,
            "align_content": null,
            "visibility": null,
            "align_self": null,
            "height": null,
            "min_height": null,
            "padding": null,
            "grid_auto_rows": null,
            "grid_gap": null,
            "max_width": null,
            "order": null,
            "_view_module_version": "1.2.0",
            "grid_template_areas": null,
            "object_position": null,
            "object_fit": null,
            "grid_auto_columns": null,
            "margin": null,
            "display": null,
            "left": null
          }
        },
        "d13745d1bfda454186d30b198608618d": {
          "model_module": "@jupyter-widgets/controls",
          "model_name": "HBoxModel",
          "state": {
            "_view_name": "HBoxView",
            "_dom_classes": [],
            "_model_name": "HBoxModel",
            "_view_module": "@jupyter-widgets/controls",
            "_model_module_version": "1.5.0",
            "_view_count": null,
            "_view_module_version": "1.5.0",
            "box_style": "",
            "layout": "IPY_MODEL_4005bc6f261e4a468665fbab49211c7a",
            "_model_module": "@jupyter-widgets/controls",
            "children": [
              "IPY_MODEL_9b5056eee8f64b23bddeddb0cc8ce27a",
              "IPY_MODEL_f4ed2c8432b9424e8fd2449da0366c33"
            ]
          }
        },
        "4005bc6f261e4a468665fbab49211c7a": {
          "model_module": "@jupyter-widgets/base",
          "model_name": "LayoutModel",
          "state": {
            "_view_name": "LayoutView",
            "grid_template_rows": null,
            "right": null,
            "justify_content": null,
            "_view_module": "@jupyter-widgets/base",
            "overflow": null,
            "_model_module_version": "1.2.0",
            "_view_count": null,
            "flex_flow": null,
            "width": null,
            "min_width": null,
            "border": null,
            "align_items": null,
            "bottom": null,
            "_model_module": "@jupyter-widgets/base",
            "top": null,
            "grid_column": null,
            "overflow_y": null,
            "overflow_x": null,
            "grid_auto_flow": null,
            "grid_area": null,
            "grid_template_columns": null,
            "flex": null,
            "_model_name": "LayoutModel",
            "justify_items": null,
            "grid_row": null,
            "max_height": null,
            "align_content": null,
            "visibility": null,
            "align_self": null,
            "height": null,
            "min_height": null,
            "padding": null,
            "grid_auto_rows": null,
            "grid_gap": null,
            "max_width": null,
            "order": null,
            "_view_module_version": "1.2.0",
            "grid_template_areas": null,
            "object_position": null,
            "object_fit": null,
            "grid_auto_columns": null,
            "margin": null,
            "display": null,
            "left": null
          }
        },
        "9b5056eee8f64b23bddeddb0cc8ce27a": {
          "model_module": "@jupyter-widgets/controls",
          "model_name": "FloatProgressModel",
          "state": {
            "_view_name": "ProgressView",
            "style": "IPY_MODEL_70b261a8350b4fc1b6ea7df05a148356",
            "_dom_classes": [],
            "description": "Downloading: 100%",
            "_model_name": "FloatProgressModel",
            "bar_style": "success",
            "max": 442221694,
            "_view_module": "@jupyter-widgets/controls",
            "_model_module_version": "1.5.0",
            "value": 442221694,
            "_view_count": null,
            "_view_module_version": "1.5.0",
            "orientation": "horizontal",
            "min": 0,
            "description_tooltip": null,
            "_model_module": "@jupyter-widgets/controls",
            "layout": "IPY_MODEL_a2f57482f5104a6988c017dd693d3b30"
          }
        },
        "f4ed2c8432b9424e8fd2449da0366c33": {
          "model_module": "@jupyter-widgets/controls",
          "model_name": "HTMLModel",
          "state": {
            "_view_name": "HTMLView",
            "style": "IPY_MODEL_5c1996d5e2234999a291db120c7c182f",
            "_dom_classes": [],
            "description": "",
            "_model_name": "HTMLModel",
            "placeholder": "​",
            "_view_module": "@jupyter-widgets/controls",
            "_model_module_version": "1.5.0",
            "value": " 442M/442M [00:10&lt;00:00, 43.7MB/s]",
            "_view_count": null,
            "_view_module_version": "1.5.0",
            "description_tooltip": null,
            "_model_module": "@jupyter-widgets/controls",
            "layout": "IPY_MODEL_6a88011cbb654ff8820661264259071f"
          }
        },
        "70b261a8350b4fc1b6ea7df05a148356": {
          "model_module": "@jupyter-widgets/controls",
          "model_name": "ProgressStyleModel",
          "state": {
            "_view_name": "StyleView",
            "_model_name": "ProgressStyleModel",
            "description_width": "initial",
            "_view_module": "@jupyter-widgets/base",
            "_model_module_version": "1.5.0",
            "_view_count": null,
            "_view_module_version": "1.2.0",
            "bar_color": null,
            "_model_module": "@jupyter-widgets/controls"
          }
        },
        "a2f57482f5104a6988c017dd693d3b30": {
          "model_module": "@jupyter-widgets/base",
          "model_name": "LayoutModel",
          "state": {
            "_view_name": "LayoutView",
            "grid_template_rows": null,
            "right": null,
            "justify_content": null,
            "_view_module": "@jupyter-widgets/base",
            "overflow": null,
            "_model_module_version": "1.2.0",
            "_view_count": null,
            "flex_flow": null,
            "width": null,
            "min_width": null,
            "border": null,
            "align_items": null,
            "bottom": null,
            "_model_module": "@jupyter-widgets/base",
            "top": null,
            "grid_column": null,
            "overflow_y": null,
            "overflow_x": null,
            "grid_auto_flow": null,
            "grid_area": null,
            "grid_template_columns": null,
            "flex": null,
            "_model_name": "LayoutModel",
            "justify_items": null,
            "grid_row": null,
            "max_height": null,
            "align_content": null,
            "visibility": null,
            "align_self": null,
            "height": null,
            "min_height": null,
            "padding": null,
            "grid_auto_rows": null,
            "grid_gap": null,
            "max_width": null,
            "order": null,
            "_view_module_version": "1.2.0",
            "grid_template_areas": null,
            "object_position": null,
            "object_fit": null,
            "grid_auto_columns": null,
            "margin": null,
            "display": null,
            "left": null
          }
        },
        "5c1996d5e2234999a291db120c7c182f": {
          "model_module": "@jupyter-widgets/controls",
          "model_name": "DescriptionStyleModel",
          "state": {
            "_view_name": "StyleView",
            "_model_name": "DescriptionStyleModel",
            "description_width": "",
            "_view_module": "@jupyter-widgets/base",
            "_model_module_version": "1.5.0",
            "_view_count": null,
            "_view_module_version": "1.2.0",
            "_model_module": "@jupyter-widgets/controls"
          }
        },
        "6a88011cbb654ff8820661264259071f": {
          "model_module": "@jupyter-widgets/base",
          "model_name": "LayoutModel",
          "state": {
            "_view_name": "LayoutView",
            "grid_template_rows": null,
            "right": null,
            "justify_content": null,
            "_view_module": "@jupyter-widgets/base",
            "overflow": null,
            "_model_module_version": "1.2.0",
            "_view_count": null,
            "flex_flow": null,
            "width": null,
            "min_width": null,
            "border": null,
            "align_items": null,
            "bottom": null,
            "_model_module": "@jupyter-widgets/base",
            "top": null,
            "grid_column": null,
            "overflow_y": null,
            "overflow_x": null,
            "grid_auto_flow": null,
            "grid_area": null,
            "grid_template_columns": null,
            "flex": null,
            "_model_name": "LayoutModel",
            "justify_items": null,
            "grid_row": null,
            "max_height": null,
            "align_content": null,
            "visibility": null,
            "align_self": null,
            "height": null,
            "min_height": null,
            "padding": null,
            "grid_auto_rows": null,
            "grid_gap": null,
            "max_width": null,
            "order": null,
            "_view_module_version": "1.2.0",
            "grid_template_areas": null,
            "object_position": null,
            "object_fit": null,
            "grid_auto_columns": null,
            "margin": null,
            "display": null,
            "left": null
          }
        },
        "c5c45fa8bbe24727a13c55b357e14c5d": {
          "model_module": "@jupyter-widgets/controls",
          "model_name": "HBoxModel",
          "state": {
            "_view_name": "HBoxView",
            "_dom_classes": [],
            "_model_name": "HBoxModel",
            "_view_module": "@jupyter-widgets/controls",
            "_model_module_version": "1.5.0",
            "_view_count": null,
            "_view_module_version": "1.5.0",
            "box_style": "",
            "layout": "IPY_MODEL_241ca57dd8534c3cafd25f80d20a1228",
            "_model_module": "@jupyter-widgets/controls",
            "children": [
              "IPY_MODEL_40b5bbffee284b0daba97dd7a460d008",
              "IPY_MODEL_1f847899dd4d486abbf284338a3330e7"
            ]
          }
        },
        "241ca57dd8534c3cafd25f80d20a1228": {
          "model_module": "@jupyter-widgets/base",
          "model_name": "LayoutModel",
          "state": {
            "_view_name": "LayoutView",
            "grid_template_rows": null,
            "right": null,
            "justify_content": null,
            "_view_module": "@jupyter-widgets/base",
            "overflow": null,
            "_model_module_version": "1.2.0",
            "_view_count": null,
            "flex_flow": null,
            "width": null,
            "min_width": null,
            "border": null,
            "align_items": null,
            "bottom": null,
            "_model_module": "@jupyter-widgets/base",
            "top": null,
            "grid_column": null,
            "overflow_y": null,
            "overflow_x": null,
            "grid_auto_flow": null,
            "grid_area": null,
            "grid_template_columns": null,
            "flex": null,
            "_model_name": "LayoutModel",
            "justify_items": null,
            "grid_row": null,
            "max_height": null,
            "align_content": null,
            "visibility": null,
            "align_self": null,
            "height": null,
            "min_height": null,
            "padding": null,
            "grid_auto_rows": null,
            "grid_gap": null,
            "max_width": null,
            "order": null,
            "_view_module_version": "1.2.0",
            "grid_template_areas": null,
            "object_position": null,
            "object_fit": null,
            "grid_auto_columns": null,
            "margin": null,
            "display": null,
            "left": null
          }
        },
        "40b5bbffee284b0daba97dd7a460d008": {
          "model_module": "@jupyter-widgets/controls",
          "model_name": "FloatProgressModel",
          "state": {
            "_view_name": "ProgressView",
            "style": "IPY_MODEL_c83d9f6fd80d4df5bde04b71286b1e4d",
            "_dom_classes": [],
            "description": "100%",
            "_model_name": "FloatProgressModel",
            "bar_style": "success",
            "max": 1233,
            "_view_module": "@jupyter-widgets/controls",
            "_model_module_version": "1.5.0",
            "value": 1233,
            "_view_count": null,
            "_view_module_version": "1.5.0",
            "orientation": "horizontal",
            "min": 0,
            "description_tooltip": null,
            "_model_module": "@jupyter-widgets/controls",
            "layout": "IPY_MODEL_09ba92df45e342c7a975b05c76e885e6"
          }
        },
        "1f847899dd4d486abbf284338a3330e7": {
          "model_module": "@jupyter-widgets/controls",
          "model_name": "HTMLModel",
          "state": {
            "_view_name": "HTMLView",
            "style": "IPY_MODEL_5f9c31e77c48463a9f0488f285548e02",
            "_dom_classes": [],
            "description": "",
            "_model_name": "HTMLModel",
            "placeholder": "​",
            "_view_module": "@jupyter-widgets/controls",
            "_model_module_version": "1.5.0",
            "value": " 1233/1233 [00:50&lt;00:00, 24.53it/s]",
            "_view_count": null,
            "_view_module_version": "1.5.0",
            "description_tooltip": null,
            "_model_module": "@jupyter-widgets/controls",
            "layout": "IPY_MODEL_a7f9e561db064a59a11c2c27585824f7"
          }
        },
        "c83d9f6fd80d4df5bde04b71286b1e4d": {
          "model_module": "@jupyter-widgets/controls",
          "model_name": "ProgressStyleModel",
          "state": {
            "_view_name": "StyleView",
            "_model_name": "ProgressStyleModel",
            "description_width": "initial",
            "_view_module": "@jupyter-widgets/base",
            "_model_module_version": "1.5.0",
            "_view_count": null,
            "_view_module_version": "1.2.0",
            "bar_color": null,
            "_model_module": "@jupyter-widgets/controls"
          }
        },
        "09ba92df45e342c7a975b05c76e885e6": {
          "model_module": "@jupyter-widgets/base",
          "model_name": "LayoutModel",
          "state": {
            "_view_name": "LayoutView",
            "grid_template_rows": null,
            "right": null,
            "justify_content": null,
            "_view_module": "@jupyter-widgets/base",
            "overflow": null,
            "_model_module_version": "1.2.0",
            "_view_count": null,
            "flex_flow": null,
            "width": null,
            "min_width": null,
            "border": null,
            "align_items": null,
            "bottom": null,
            "_model_module": "@jupyter-widgets/base",
            "top": null,
            "grid_column": null,
            "overflow_y": null,
            "overflow_x": null,
            "grid_auto_flow": null,
            "grid_area": null,
            "grid_template_columns": null,
            "flex": null,
            "_model_name": "LayoutModel",
            "justify_items": null,
            "grid_row": null,
            "max_height": null,
            "align_content": null,
            "visibility": null,
            "align_self": null,
            "height": null,
            "min_height": null,
            "padding": null,
            "grid_auto_rows": null,
            "grid_gap": null,
            "max_width": null,
            "order": null,
            "_view_module_version": "1.2.0",
            "grid_template_areas": null,
            "object_position": null,
            "object_fit": null,
            "grid_auto_columns": null,
            "margin": null,
            "display": null,
            "left": null
          }
        },
        "5f9c31e77c48463a9f0488f285548e02": {
          "model_module": "@jupyter-widgets/controls",
          "model_name": "DescriptionStyleModel",
          "state": {
            "_view_name": "StyleView",
            "_model_name": "DescriptionStyleModel",
            "description_width": "",
            "_view_module": "@jupyter-widgets/base",
            "_model_module_version": "1.5.0",
            "_view_count": null,
            "_view_module_version": "1.2.0",
            "_model_module": "@jupyter-widgets/controls"
          }
        },
        "a7f9e561db064a59a11c2c27585824f7": {
          "model_module": "@jupyter-widgets/base",
          "model_name": "LayoutModel",
          "state": {
            "_view_name": "LayoutView",
            "grid_template_rows": null,
            "right": null,
            "justify_content": null,
            "_view_module": "@jupyter-widgets/base",
            "overflow": null,
            "_model_module_version": "1.2.0",
            "_view_count": null,
            "flex_flow": null,
            "width": null,
            "min_width": null,
            "border": null,
            "align_items": null,
            "bottom": null,
            "_model_module": "@jupyter-widgets/base",
            "top": null,
            "grid_column": null,
            "overflow_y": null,
            "overflow_x": null,
            "grid_auto_flow": null,
            "grid_area": null,
            "grid_template_columns": null,
            "flex": null,
            "_model_name": "LayoutModel",
            "justify_items": null,
            "grid_row": null,
            "max_height": null,
            "align_content": null,
            "visibility": null,
            "align_self": null,
            "height": null,
            "min_height": null,
            "padding": null,
            "grid_auto_rows": null,
            "grid_gap": null,
            "max_width": null,
            "order": null,
            "_view_module_version": "1.2.0",
            "grid_template_areas": null,
            "object_position": null,
            "object_fit": null,
            "grid_auto_columns": null,
            "margin": null,
            "display": null,
            "left": null
          }
        }
      }
    }
  },
  "cells": [
    {
      "cell_type": "markdown",
      "metadata": {
        "id": "RwqTJRjhaABq"
      },
      "source": [
        "#1. Introduction:\n",
        "\n",
        "* **This Notebook is based on the implementation of Veracity prediction(Sentence Classification) of health claims. Veracity Prediction output probability of input clam that belong to one of four classes: true, false, unproven, mixture.**\n",
        "\n",
        "* **As the dataset is based on public health claims (bio, disease, scientific terms) we are using Sci-BERT for veracity prediction.[Scibert](https://github.com/allenai/scibert)**"
      ]
    },
    {
      "cell_type": "code",
      "metadata": {
        "colab": {
          "base_uri": "https://localhost:8080/"
        },
        "id": "NeLCEgO5B25_",
        "outputId": "e20db3c6-65dd-4ccc-f97e-0291ee5ce0f3"
      },
      "source": [
        "# Checking GPU\n",
        "!nvidia-smi  "
      ],
      "execution_count": null,
      "outputs": [
        {
          "output_type": "stream",
          "text": [
            "Sun Jul 18 18:08:17 2021       \n",
            "+-----------------------------------------------------------------------------+\n",
            "| NVIDIA-SMI 470.42.01    Driver Version: 460.32.03    CUDA Version: 11.2     |\n",
            "|-------------------------------+----------------------+----------------------+\n",
            "| GPU  Name        Persistence-M| Bus-Id        Disp.A | Volatile Uncorr. ECC |\n",
            "| Fan  Temp  Perf  Pwr:Usage/Cap|         Memory-Usage | GPU-Util  Compute M. |\n",
            "|                               |                      |               MIG M. |\n",
            "|===============================+======================+======================|\n",
            "|   0  Tesla T4            Off  | 00000000:00:04.0 Off |                    0 |\n",
            "| N/A   61C    P8    11W /  70W |      0MiB / 15109MiB |      0%      Default |\n",
            "|                               |                      |                  N/A |\n",
            "+-------------------------------+----------------------+----------------------+\n",
            "                                                                               \n",
            "+-----------------------------------------------------------------------------+\n",
            "| Processes:                                                                  |\n",
            "|  GPU   GI   CI        PID   Type   Process name                  GPU Memory |\n",
            "|        ID   ID                                                   Usage      |\n",
            "|=============================================================================|\n",
            "|  No running processes found                                                 |\n",
            "+-----------------------------------------------------------------------------+\n"
          ],
          "name": "stdout"
        }
      ]
    },
    {
      "cell_type": "markdown",
      "metadata": {
        "id": "wzC_yIlHboou"
      },
      "source": [
        "#2. Install Libraries:\n",
        "\n",
        "Here we are using pytorch-lightning for faster training and reproducibility."
      ]
    },
    {
      "cell_type": "code",
      "metadata": {
        "id": "-elpv_LBCE1T"
      },
      "source": [
        "%%capture \n",
        "!pip install --quiet sentence-transformers\n",
        "!pip install --quiet transformers\n",
        "!pip install --quiet pytorch-lightning\n",
        " \n",
        "import numpy as np # linear algebra\n",
        "import pandas as pd # data processing, CSV file I/O (e.g. pd.read_csv)\n",
        "#import nltk\n",
        "#nltk.download('punkt')\n",
        " \n",
        "# Necessary Libraries \n",
        "import re # Regular expression\n",
        "import string\n",
        "import random # pick random samples\n",
        "import transformers # HuggingFace Transformers \n",
        "import torch \n",
        "from torch import nn\n",
        "from torch.utils.data import Dataset, DataLoader # Pytorch dataset and Dataloader for Data building for model\n",
        "from transformers import AutoTokenizer, AutoModel, AutoModelForSequenceClassification # Generic tokenizer class ,Generic model class, Model Class with a sequence classification head\n",
        "from transformers import get_scheduler\n",
        "from transformers import AdamW\n",
        "from transformers import get_linear_schedule_with_warmup\n",
        "import pytorch_lightning as pl # pytorch lightning wrapper\n",
        "from pytorch_lightning.metrics.functional import accuracy, f1, auroc # Inbild metrics of pl \n",
        "from pytorch_lightning.callbacks import ModelCheckpoint, EarlyStopping # For model saving and reusability\n",
        "from sentence_transformers import SentenceTransformer, util\n",
        "from pytorch_lightning.loggers import TensorBoardLogger # For visualization of metrics in TensorBoard\n",
        " \n",
        "# Ploting and Visualization\n",
        "import seaborn as sns   \n",
        "from pylab import rcParams\n",
        "import matplotlib.pyplot as plt\n",
        "from matplotlib import rc"
      ],
      "execution_count": null,
      "outputs": []
    },
    {
      "cell_type": "code",
      "metadata": {
        "id": "_EiGZIkuCf97",
        "colab": {
          "base_uri": "https://localhost:8080/",
          "height": 115,
          "referenced_widgets": [
            "64c7fc4a83f2419182742e1258ed6a90",
            "1b645cb4e368433997fde45e31e7b438",
            "9a7c70f0f15147fbaf99e62b9487c66d",
            "3bbbc4ba1e784f37be692e036309bbfa",
            "3b319d3931d1491fa3685d9cd6d9a2dc",
            "7d9b9402be26473ba4c94c7b9330c5be",
            "29c07674478a4461a97d3c69d61c8f25",
            "82e83144284044689869f334047ebb53",
            "d481c471bdf848bb8d45e79b3efabe2f",
            "92946476b9f84201a7921966a5a3d19c",
            "2d894b8d7da54c3f9c376584f859e905",
            "b309f81ac21146c1be6337564294653d",
            "1bb61192554345bf8962abf1def867ed",
            "656f77bb1cec4783a807aeaae783dd02",
            "5cc0c9ea4c5b41329ff7adad88eeb6b7",
            "c9e19f6104cb40a18ed141aad5e792b3"
          ]
        },
        "outputId": "5c48b077-c354-49eb-9ced-4189d8d0ae09"
      },
      "source": [
        "# Getting tokenizer \n",
        "tokenizer = AutoTokenizer.from_pretrained(\"allenai/scibert_scivocab_uncased\")"
      ],
      "execution_count": null,
      "outputs": [
        {
          "output_type": "display_data",
          "data": {
            "application/vnd.jupyter.widget-view+json": {
              "model_id": "64c7fc4a83f2419182742e1258ed6a90",
              "version_minor": 0,
              "version_major": 2
            },
            "text/plain": [
              "HBox(children=(FloatProgress(value=0.0, description='Downloading', max=385.0, style=ProgressStyle(description_…"
            ]
          },
          "metadata": {
            "tags": []
          }
        },
        {
          "output_type": "stream",
          "text": [
            "\n"
          ],
          "name": "stdout"
        },
        {
          "output_type": "display_data",
          "data": {
            "application/vnd.jupyter.widget-view+json": {
              "model_id": "d481c471bdf848bb8d45e79b3efabe2f",
              "version_minor": 0,
              "version_major": 2
            },
            "text/plain": [
              "HBox(children=(FloatProgress(value=0.0, description='Downloading', max=227845.0, style=ProgressStyle(descripti…"
            ]
          },
          "metadata": {
            "tags": []
          }
        },
        {
          "output_type": "stream",
          "text": [
            "\n"
          ],
          "name": "stdout"
        }
      ]
    },
    {
      "cell_type": "markdown",
      "metadata": {
        "id": "HdXtADoXwi2K"
      },
      "source": [
        "# 3. Download the Dataset:\n",
        "### You can grab the Dataset from our repo or you can download the dataset from Huggiface Dataset also [Link](https://huggingface.co/datasets/viewer/?dataset=health_fact).\n",
        " \n",
        "Note📒: We are just using the preprocessed  data, where we only consider the top_k (k = 5) sentences from the maintext or we can say evidences along with the cliam text."
      ]
    },
    {
      "cell_type": "code",
      "metadata": {
        "id": "82XyLFH4vIYb",
        "colab": {
          "base_uri": "https://localhost:8080/"
        },
        "outputId": "270b86b0-79f1-4001-93e2-da8f214bd42e"
      },
      "source": [
        "!wget https://raw.githubusercontent.com/saswat01/Reproduce-Health_Fact_Checking/main/data/processed/pubhealth_train.csv\n",
        "!wget https://raw.githubusercontent.com/saswat01/Reproduce-Health_Fact_Checking/main/data/processed/pubhealth_val.csv\n",
        "!wget https://raw.githubusercontent.com/saswat01/Reproduce-Health_Fact_Checking/main/data/processed/pubhealth_test.csv"
      ],
      "execution_count": null,
      "outputs": [
        {
          "output_type": "stream",
          "text": [
            "--2021-07-18 18:08:50--  https://raw.githubusercontent.com/saswat01/Reproduce-Health_Fact_Checking/main/data/processed/pubhealth_train.csv\n",
            "Resolving raw.githubusercontent.com (raw.githubusercontent.com)... 185.199.108.133, 185.199.109.133, 185.199.110.133, ...\n",
            "Connecting to raw.githubusercontent.com (raw.githubusercontent.com)|185.199.108.133|:443... connected.\n",
            "HTTP request sent, awaiting response... 200 OK\n",
            "Length: 13115730 (13M) [text/plain]\n",
            "Saving to: ‘pubhealth_train.csv’\n",
            "\n",
            "pubhealth_train.csv 100%[===================>]  12.51M  67.9MB/s    in 0.2s    \n",
            "\n",
            "2021-07-18 18:08:51 (67.9 MB/s) - ‘pubhealth_train.csv’ saved [13115730/13115730]\n",
            "\n",
            "--2021-07-18 18:08:51--  https://raw.githubusercontent.com/saswat01/Reproduce-Health_Fact_Checking/main/data/processed/pubhealth_val.csv\n",
            "Resolving raw.githubusercontent.com (raw.githubusercontent.com)... 185.199.108.133, 185.199.109.133, 185.199.110.133, ...\n",
            "Connecting to raw.githubusercontent.com (raw.githubusercontent.com)|185.199.108.133|:443... connected.\n",
            "HTTP request sent, awaiting response... 200 OK\n",
            "Length: 1599777 (1.5M) [text/plain]\n",
            "Saving to: ‘pubhealth_val.csv’\n",
            "\n",
            "pubhealth_val.csv   100%[===================>]   1.53M  --.-KB/s    in 0.08s   \n",
            "\n",
            "2021-07-18 18:08:51 (19.2 MB/s) - ‘pubhealth_val.csv’ saved [1599777/1599777]\n",
            "\n",
            "--2021-07-18 18:08:51--  https://raw.githubusercontent.com/saswat01/Reproduce-Health_Fact_Checking/main/data/processed/pubhealth_test.csv\n",
            "Resolving raw.githubusercontent.com (raw.githubusercontent.com)... 185.199.108.133, 185.199.109.133, 185.199.110.133, ...\n",
            "Connecting to raw.githubusercontent.com (raw.githubusercontent.com)|185.199.108.133|:443... connected.\n",
            "HTTP request sent, awaiting response... 200 OK\n",
            "Length: 1635831 (1.6M) [text/plain]\n",
            "Saving to: ‘pubhealth_test.csv’\n",
            "\n",
            "pubhealth_test.csv  100%[===================>]   1.56M  --.-KB/s    in 0.03s   \n",
            "\n",
            "2021-07-18 18:08:51 (45.6 MB/s) - ‘pubhealth_test.csv’ saved [1635831/1635831]\n",
            "\n"
          ],
          "name": "stdout"
        }
      ]
    },
    {
      "cell_type": "code",
      "metadata": {
        "colab": {
          "base_uri": "https://localhost:8080/",
          "height": 204
        },
        "id": "pvcif6vDCzmB",
        "outputId": "8356f015-e02c-426c-d892-c4c66bf70f91"
      },
      "source": [
        "# Reading data in PandasDataFrame\n",
        "train = pd.read_csv('pubhealth_train.csv') # Training Data\n",
        "validation = pd.read_csv('pubhealth_val.csv') # Validation Data\n",
        "test = pd.read_csv('pubhealth_test.csv') # Test Data\n",
        "\n",
        "train[\"index\"] = train[\"Unnamed: 0\"]\n",
        "validation[\"index\"] = validation[\"Unnamed: 0\"]\n",
        "test[\"index\"] = test[\"Unnamed: 0\"]\n",
        "\n",
        "train.drop(columns=[\"Unnamed: 0\",\"Unnamed: 0.1\"],inplace=True)\n",
        "validation.drop(columns=[\"Unnamed: 0\",\"Unnamed: 0.1\"],inplace=True)\n",
        "test.drop(columns=[\"Unnamed: 0\",\"Unnamed: 0.1\"],inplace=True)\n",
        "train.head() # Viewing top samples"
      ],
      "execution_count": null,
      "outputs": [
        {
          "output_type": "execute_result",
          "data": {
            "text/html": [
              "<div>\n",
              "<style scoped>\n",
              "    .dataframe tbody tr th:only-of-type {\n",
              "        vertical-align: middle;\n",
              "    }\n",
              "\n",
              "    .dataframe tbody tr th {\n",
              "        vertical-align: top;\n",
              "    }\n",
              "\n",
              "    .dataframe thead th {\n",
              "        text-align: right;\n",
              "    }\n",
              "</style>\n",
              "<table border=\"1\" class=\"dataframe\">\n",
              "  <thead>\n",
              "    <tr style=\"text-align: right;\">\n",
              "      <th></th>\n",
              "      <th>claim</th>\n",
              "      <th>top_k</th>\n",
              "      <th>label</th>\n",
              "      <th>explanation</th>\n",
              "      <th>index</th>\n",
              "    </tr>\n",
              "  </thead>\n",
              "  <tbody>\n",
              "    <tr>\n",
              "      <th>0</th>\n",
              "      <td>\"The money the Clinton Foundation took from fr...</td>\n",
              "      <td>Some libertarian-minded constitutional law exp...</td>\n",
              "      <td>false</td>\n",
              "      <td>\"Gingrich said the Clinton Foundation \"\"took m...</td>\n",
              "      <td>0</td>\n",
              "    </tr>\n",
              "    <tr>\n",
              "      <th>1</th>\n",
              "      <td>Annual Mammograms May Have More False-Positives</td>\n",
              "      <td>4) Screening mammography recall rates are infl...</td>\n",
              "      <td>mixture</td>\n",
              "      <td>This article reports on the results of a study...</td>\n",
              "      <td>1</td>\n",
              "    </tr>\n",
              "    <tr>\n",
              "      <th>2</th>\n",
              "      <td>SBRT Offers Prostate Cancer Patients High Canc...</td>\n",
              "      <td>The real question is how do these harms compar...</td>\n",
              "      <td>mixture</td>\n",
              "      <td>This news release describes five-year outcomes...</td>\n",
              "      <td>2</td>\n",
              "    </tr>\n",
              "    <tr>\n",
              "      <th>3</th>\n",
              "      <td>Study: Vaccine for Breast, Ovarian Cancer Has ...</td>\n",
              "      <td>Because of his competing research, he seems to...</td>\n",
              "      <td>true</td>\n",
              "      <td>While the story does many things well, the ove...</td>\n",
              "      <td>3</td>\n",
              "    </tr>\n",
              "    <tr>\n",
              "      <th>4</th>\n",
              "      <td>Some appendicitis cases may not require ’emerg...</td>\n",
              "      <td>The focus of the story was on a study comparin...</td>\n",
              "      <td>true</td>\n",
              "      <td>We really don’t understand why only a handful ...</td>\n",
              "      <td>4</td>\n",
              "    </tr>\n",
              "  </tbody>\n",
              "</table>\n",
              "</div>"
            ],
            "text/plain": [
              "                                               claim  ... index\n",
              "0  \"The money the Clinton Foundation took from fr...  ...     0\n",
              "1    Annual Mammograms May Have More False-Positives  ...     1\n",
              "2  SBRT Offers Prostate Cancer Patients High Canc...  ...     2\n",
              "3  Study: Vaccine for Breast, Ovarian Cancer Has ...  ...     3\n",
              "4  Some appendicitis cases may not require ’emerg...  ...     4\n",
              "\n",
              "[5 rows x 5 columns]"
            ]
          },
          "metadata": {
            "tags": []
          },
          "execution_count": 6
        }
      ]
    },
    {
      "cell_type": "code",
      "metadata": {
        "colab": {
          "base_uri": "https://localhost:8080/",
          "height": 111
        },
        "id": "SwKEyoGyRGhT",
        "outputId": "88aed1e9-0817-415d-bf8c-32f9353a3574"
      },
      "source": [
        "validation.head(2)"
      ],
      "execution_count": null,
      "outputs": [
        {
          "output_type": "execute_result",
          "data": {
            "text/html": [
              "<div>\n",
              "<style scoped>\n",
              "    .dataframe tbody tr th:only-of-type {\n",
              "        vertical-align: middle;\n",
              "    }\n",
              "\n",
              "    .dataframe tbody tr th {\n",
              "        vertical-align: top;\n",
              "    }\n",
              "\n",
              "    .dataframe thead th {\n",
              "        text-align: right;\n",
              "    }\n",
              "</style>\n",
              "<table border=\"1\" class=\"dataframe\">\n",
              "  <thead>\n",
              "    <tr style=\"text-align: right;\">\n",
              "      <th></th>\n",
              "      <th>claim</th>\n",
              "      <th>top_k</th>\n",
              "      <th>label</th>\n",
              "      <th>explanation</th>\n",
              "      <th>index</th>\n",
              "    </tr>\n",
              "  </thead>\n",
              "  <tbody>\n",
              "    <tr>\n",
              "      <th>0</th>\n",
              "      <td>A baby died at an unnamed medical facility be...</td>\n",
              "      <td>Did the incident occur on 8 November 2015, the...</td>\n",
              "      <td>unproven</td>\n",
              "      <td>Fellow Twitter users suggested @FierceFemtivis...</td>\n",
              "      <td>0</td>\n",
              "    </tr>\n",
              "    <tr>\n",
              "      <th>1</th>\n",
              "      <td>Bat from Shawnee County tests positive for rab...</td>\n",
              "      <td>Symptoms include general weakness or discomfor...</td>\n",
              "      <td>true</td>\n",
              "      <td>A bat found in northeastern Kansas has tested ...</td>\n",
              "      <td>1</td>\n",
              "    </tr>\n",
              "  </tbody>\n",
              "</table>\n",
              "</div>"
            ],
            "text/plain": [
              "                                               claim  ... index\n",
              "0   A baby died at an unnamed medical facility be...  ...     0\n",
              "1  Bat from Shawnee County tests positive for rab...  ...     1\n",
              "\n",
              "[2 rows x 5 columns]"
            ]
          },
          "metadata": {
            "tags": []
          },
          "execution_count": 7
        }
      ]
    },
    {
      "cell_type": "code",
      "metadata": {
        "colab": {
          "base_uri": "https://localhost:8080/",
          "height": 111
        },
        "id": "wc2xtCrLSPqL",
        "outputId": "a28c604c-add3-420f-cc13-e820a83695e3"
      },
      "source": [
        "test.head(2)"
      ],
      "execution_count": null,
      "outputs": [
        {
          "output_type": "execute_result",
          "data": {
            "text/html": [
              "<div>\n",
              "<style scoped>\n",
              "    .dataframe tbody tr th:only-of-type {\n",
              "        vertical-align: middle;\n",
              "    }\n",
              "\n",
              "    .dataframe tbody tr th {\n",
              "        vertical-align: top;\n",
              "    }\n",
              "\n",
              "    .dataframe thead th {\n",
              "        text-align: right;\n",
              "    }\n",
              "</style>\n",
              "<table border=\"1\" class=\"dataframe\">\n",
              "  <thead>\n",
              "    <tr style=\"text-align: right;\">\n",
              "      <th></th>\n",
              "      <th>claim</th>\n",
              "      <th>top_k</th>\n",
              "      <th>label</th>\n",
              "      <th>explanation</th>\n",
              "      <th>index</th>\n",
              "    </tr>\n",
              "  </thead>\n",
              "  <tbody>\n",
              "    <tr>\n",
              "      <th>0</th>\n",
              "      <td>A mother revealed to her child in a letter aft...</td>\n",
              "      <td>And I asked her, “who are you? I screamed at h...</td>\n",
              "      <td>false</td>\n",
              "      <td>The one-eyed mother story expounds upon two mo...</td>\n",
              "      <td>0</td>\n",
              "    </tr>\n",
              "    <tr>\n",
              "      <th>1</th>\n",
              "      <td>Study says too many Americans still drink too ...</td>\n",
              "      <td>\"There are people who don't realize that they ...</td>\n",
              "      <td>true</td>\n",
              "      <td>On any given day in the United States, 18 perc...</td>\n",
              "      <td>1</td>\n",
              "    </tr>\n",
              "  </tbody>\n",
              "</table>\n",
              "</div>"
            ],
            "text/plain": [
              "                                               claim  ... index\n",
              "0  A mother revealed to her child in a letter aft...  ...     0\n",
              "1  Study says too many Americans still drink too ...  ...     1\n",
              "\n",
              "[2 rows x 5 columns]"
            ]
          },
          "metadata": {
            "tags": []
          },
          "execution_count": 8
        }
      ]
    },
    {
      "cell_type": "code",
      "metadata": {
        "colab": {
          "base_uri": "https://localhost:8080/",
          "height": 86
        },
        "id": "4Mde2C0oNEIR",
        "outputId": "acf517b0-b575-408c-91d0-524925c5f581"
      },
      "source": [
        "train.top_k[18]"
      ],
      "execution_count": null,
      "outputs": [
        {
          "output_type": "execute_result",
          "data": {
            "application/vnd.google.colaboratory.intrinsic+json": {
              "type": "string"
            },
            "text/plain": [
              "'The article appears under the BBC’s \"\"England\"\" tab. The post was flagged as part of Facebook’s efforts to combat false news and misinformation on its News Feed. (Read more about our partnership with Facebook.) \"\"Ghislaine Maxwell moved to intensive care as coronavirus symptoms worsen,\"\" the headline says above an image of Maxwell. According to official autopsy results, Epstein killed himself last year in a New York jail cell where he was being held on federal sex trafficking charges, though conspiracy theories allege he was murdered because he had damaging information about powerful people.'"
            ]
          },
          "metadata": {
            "tags": []
          },
          "execution_count": 9
        }
      ]
    },
    {
      "cell_type": "code",
      "metadata": {
        "colab": {
          "base_uri": "https://localhost:8080/",
          "height": 103
        },
        "id": "cTHg8RIARMDz",
        "outputId": "b728506b-5595-4636-8c3c-28419d558b90"
      },
      "source": [
        "validation.top_k[0]"
      ],
      "execution_count": null,
      "outputs": [
        {
          "output_type": "execute_result",
          "data": {
            "application/vnd.google.colaboratory.intrinsic+json": {
              "type": "string"
            },
            "text/plain": [
              "'Did the incident occur on 8 November 2015, the date the tweets were posted, or earlier? What was the condition\\xa0and ultimate\\xa0cause of death? Readers were left with a number of questions when @FierceFemtivist deleted her account (and along with it, the controversial tweets). Were police summoned to investigate the baby’s death? According to @FierceFemtivist, she “just had an infant die” that she personally “could’ve saved” because the child’s epithet-slinging, Confederate flag-bedecked father purportedly physically blocked the nurse from entering the baby’s room despite the fact that the infant\\xa0was “crashing fast.” @FierceFemtivist claimed to be the most qualified caregiver in the facility but did not provide a date, facility name, medical condition, nor even a gender for the baby who purportedly died solely because\\xa0it had racist parents.'"
            ]
          },
          "metadata": {
            "tags": []
          },
          "execution_count": 10
        }
      ]
    },
    {
      "cell_type": "code",
      "metadata": {
        "colab": {
          "base_uri": "https://localhost:8080/",
          "height": 86
        },
        "id": "vOCJPsq_SWGA",
        "outputId": "5c1d395c-8a8d-4c69-d5e7-278be6c13cc3"
      },
      "source": [
        "test.top_k[14]"
      ],
      "execution_count": null,
      "outputs": [
        {
          "output_type": "execute_result",
          "data": {
            "application/vnd.google.colaboratory.intrinsic+json": {
              "type": "string"
            },
            "text/plain": [
              "'Republican House Leader and gubernatorial candidate Ken Fredette claims Democrats are now rushing to increase state spending and grow government. Democratic House Speaker Sara Gideon says Maine’s fiscal health is only as meaningful as the health of its people at a time of an opioid epidemic and a workforce shortage. Republicans are praising conservative fiscal policies and the elimination of a voter-approved surtax on the wealthy. Lawmakers consider spending, saving $128.5 million surplus. Democratic Rep. Drew Gattine says the surplus is a chance for a serious discussion about addressing issues like access to health care after voters approved Medicaid expansion in November.'"
            ]
          },
          "metadata": {
            "tags": []
          },
          "execution_count": 11
        }
      ]
    },
    {
      "cell_type": "markdown",
      "metadata": {
        "id": "Zfa-LjxKKtzO"
      },
      "source": [
        "# Text Preprocessing :\n",
        "* As we are working on a sequence classification problem  we can remove some noise from text.  \n"
      ]
    },
    {
      "cell_type": "code",
      "metadata": {
        "id": "FkxoivUcLDzp"
      },
      "source": [
        "def clean_text(text):\n",
        "    '''Make text lowercase, remove text in square brackets,remove links,remove punctuation\n",
        "    and remove words containing numbers.'''\n",
        "    text = re.sub('\\[.*?\\]', '', text)\n",
        "    text = re.sub('https?://\\S+|www\\.\\S+', '', text)\n",
        "    text = re.sub(r'@\\w+', '', text)\n",
        "    text = re.sub('<.*?>+', '', text)\n",
        "    text = re.sub('[%s]' % re.escape(string.punctuation), '', text)\n",
        "    text = re.sub('\\n', '', text)\n",
        "    text = re.sub('\\w*\\d\\w*', '', text)\n",
        "    return text\n"
      ],
      "execution_count": null,
      "outputs": []
    },
    {
      "cell_type": "code",
      "metadata": {
        "id": "5cErWxZkP4gB"
      },
      "source": [
        "train['clean_top_k'] = train['top_k'].apply(lambda x:clean_text(x)) #Apply text preprocessing \n",
        "train['Length'] = train.top_k.str.len()\n",
        "train['Word_count'] = train['top_k'].str.split().map(len)\n",
        "\n",
        "validation['clean_top_k'] = validation['top_k'].apply(lambda x:clean_text(x))\n",
        "validation['Length'] = validation.top_k.str.len()\n",
        "validation['Word_count'] = validation['top_k'].str.split().map(len)\n",
        "\n",
        "\n",
        "test['clean_top_k'] = test['top_k'].apply(lambda x:clean_text(x))\n",
        "test['Length'] = test.top_k.str.len()\n",
        "test['Word_count'] = test['top_k'].str.split().map(len)"
      ],
      "execution_count": null,
      "outputs": []
    },
    {
      "cell_type": "code",
      "metadata": {
        "colab": {
          "base_uri": "https://localhost:8080/",
          "height": 512
        },
        "id": "7iaD4SnJSwwz",
        "outputId": "12f918ff-91ef-4474-8801-ade1ebb15681"
      },
      "source": [
        "train.head(10)"
      ],
      "execution_count": null,
      "outputs": [
        {
          "output_type": "execute_result",
          "data": {
            "text/html": [
              "<div>\n",
              "<style scoped>\n",
              "    .dataframe tbody tr th:only-of-type {\n",
              "        vertical-align: middle;\n",
              "    }\n",
              "\n",
              "    .dataframe tbody tr th {\n",
              "        vertical-align: top;\n",
              "    }\n",
              "\n",
              "    .dataframe thead th {\n",
              "        text-align: right;\n",
              "    }\n",
              "</style>\n",
              "<table border=\"1\" class=\"dataframe\">\n",
              "  <thead>\n",
              "    <tr style=\"text-align: right;\">\n",
              "      <th></th>\n",
              "      <th>claim</th>\n",
              "      <th>top_k</th>\n",
              "      <th>label</th>\n",
              "      <th>explanation</th>\n",
              "      <th>index</th>\n",
              "      <th>clean_top_k</th>\n",
              "      <th>Length</th>\n",
              "      <th>Word_count</th>\n",
              "    </tr>\n",
              "  </thead>\n",
              "  <tbody>\n",
              "    <tr>\n",
              "      <th>0</th>\n",
              "      <td>\"The money the Clinton Foundation took from fr...</td>\n",
              "      <td>Some libertarian-minded constitutional law exp...</td>\n",
              "      <td>false</td>\n",
              "      <td>\"Gingrich said the Clinton Foundation \"\"took m...</td>\n",
              "      <td>0</td>\n",
              "      <td>Some libertarianminded constitutional law expe...</td>\n",
              "      <td>668</td>\n",
              "      <td>102</td>\n",
              "    </tr>\n",
              "    <tr>\n",
              "      <th>1</th>\n",
              "      <td>Annual Mammograms May Have More False-Positives</td>\n",
              "      <td>4) Screening mammography recall rates are infl...</td>\n",
              "      <td>mixture</td>\n",
              "      <td>This article reports on the results of a study...</td>\n",
              "      <td>1</td>\n",
              "      <td>Screening mammography recall rates are influe...</td>\n",
              "      <td>479</td>\n",
              "      <td>73</td>\n",
              "    </tr>\n",
              "    <tr>\n",
              "      <th>2</th>\n",
              "      <td>SBRT Offers Prostate Cancer Patients High Canc...</td>\n",
              "      <td>The real question is how do these harms compar...</td>\n",
              "      <td>mixture</td>\n",
              "      <td>This news release describes five-year outcomes...</td>\n",
              "      <td>2</td>\n",
              "      <td>The real question is how do these harms compar...</td>\n",
              "      <td>692</td>\n",
              "      <td>114</td>\n",
              "    </tr>\n",
              "    <tr>\n",
              "      <th>3</th>\n",
              "      <td>Study: Vaccine for Breast, Ovarian Cancer Has ...</td>\n",
              "      <td>Because of his competing research, he seems to...</td>\n",
              "      <td>true</td>\n",
              "      <td>While the story does many things well, the ove...</td>\n",
              "      <td>3</td>\n",
              "      <td>Because of his competing research he seems to ...</td>\n",
              "      <td>590</td>\n",
              "      <td>101</td>\n",
              "    </tr>\n",
              "    <tr>\n",
              "      <th>4</th>\n",
              "      <td>Some appendicitis cases may not require ’emerg...</td>\n",
              "      <td>The focus of the story was on a study comparin...</td>\n",
              "      <td>true</td>\n",
              "      <td>We really don’t understand why only a handful ...</td>\n",
              "      <td>4</td>\n",
              "      <td>The focus of the story was on a study comparin...</td>\n",
              "      <td>457</td>\n",
              "      <td>79</td>\n",
              "    </tr>\n",
              "    <tr>\n",
              "      <th>5</th>\n",
              "      <td>Britain to reveal trial criteria for coronavir...</td>\n",
              "      <td>“If our test fails the validation, then it’s n...</td>\n",
              "      <td>true</td>\n",
              "      <td>British regulators will this week reveal appro...</td>\n",
              "      <td>5</td>\n",
              "      <td>“If our test fails the validation then it’s no...</td>\n",
              "      <td>920</td>\n",
              "      <td>154</td>\n",
              "    </tr>\n",
              "    <tr>\n",
              "      <th>6</th>\n",
              "      <td>Angioplasty through the wrist backed by new study</td>\n",
              "      <td>The story did not provide cost estimates for e...</td>\n",
              "      <td>true</td>\n",
              "      <td>This is a good piece of reporting about a rece...</td>\n",
              "      <td>6</td>\n",
              "      <td>The story did not provide cost estimates for e...</td>\n",
              "      <td>798</td>\n",
              "      <td>132</td>\n",
              "    </tr>\n",
              "    <tr>\n",
              "      <th>7</th>\n",
              "      <td>U.S. says results encouraging for healthcare d...</td>\n",
              "      <td>“It’s giving us great confidence that this is ...</td>\n",
              "      <td>true</td>\n",
              "      <td>The Obama administration on Thursday reported ...</td>\n",
              "      <td>7</td>\n",
              "      <td>“It’s giving us great confidence that this is ...</td>\n",
              "      <td>849</td>\n",
              "      <td>138</td>\n",
              "    </tr>\n",
              "    <tr>\n",
              "      <th>8</th>\n",
              "      <td>Latest trial in J&amp;J talc litigations gets unde...</td>\n",
              "      <td>J&amp;J in court filings in the Leavitt case said ...</td>\n",
              "      <td>true</td>\n",
              "      <td>A California jury on Monday heard opening stat...</td>\n",
              "      <td>8</td>\n",
              "      <td>JJ in court filings in the Leavitt case said t...</td>\n",
              "      <td>474</td>\n",
              "      <td>81</td>\n",
              "    </tr>\n",
              "    <tr>\n",
              "      <th>9</th>\n",
              "      <td>Poor test results for heart drugs</td>\n",
              "      <td>There was also no mention of the two accompany...</td>\n",
              "      <td>false</td>\n",
              "      <td>\"The story reports no additional cardiovascula...</td>\n",
              "      <td>9</td>\n",
              "      <td>There was also no mention of the two accompany...</td>\n",
              "      <td>421</td>\n",
              "      <td>67</td>\n",
              "    </tr>\n",
              "  </tbody>\n",
              "</table>\n",
              "</div>"
            ],
            "text/plain": [
              "                                               claim  ... Word_count\n",
              "0  \"The money the Clinton Foundation took from fr...  ...        102\n",
              "1    Annual Mammograms May Have More False-Positives  ...         73\n",
              "2  SBRT Offers Prostate Cancer Patients High Canc...  ...        114\n",
              "3  Study: Vaccine for Breast, Ovarian Cancer Has ...  ...        101\n",
              "4  Some appendicitis cases may not require ’emerg...  ...         79\n",
              "5  Britain to reveal trial criteria for coronavir...  ...        154\n",
              "6  Angioplasty through the wrist backed by new study  ...        132\n",
              "7  U.S. says results encouraging for healthcare d...  ...        138\n",
              "8  Latest trial in J&J talc litigations gets unde...  ...         81\n",
              "9                  Poor test results for heart drugs  ...         67\n",
              "\n",
              "[10 rows x 8 columns]"
            ]
          },
          "metadata": {
            "tags": []
          },
          "execution_count": 14
        }
      ]
    },
    {
      "cell_type": "markdown",
      "metadata": {
        "id": "ivFyyJK-lBRn"
      },
      "source": [
        "#### Average sentence length in train data."
      ]
    },
    {
      "cell_type": "code",
      "metadata": {
        "colab": {
          "base_uri": "https://localhost:8080/"
        },
        "id": "E6AD2RplT2b3",
        "outputId": "aacef5a4-afb2-4843-e28c-b75be29c6ca5"
      },
      "source": [
        "sum(train.Word_count) /len(train)"
      ],
      "execution_count": null,
      "outputs": [
        {
          "output_type": "execute_result",
          "data": {
            "text/plain": [
              "119.05650178480367"
            ]
          },
          "metadata": {
            "tags": []
          },
          "execution_count": 15
        }
      ]
    },
    {
      "cell_type": "code",
      "metadata": {
        "colab": {
          "base_uri": "https://localhost:8080/"
        },
        "id": "VQNK8ehqUWre",
        "outputId": "5d6a28dc-a7df-4a3f-af38-b7280ca3db84"
      },
      "source": [
        "train.Word_count.sum(axis = 0, skipna = True) / len(train)"
      ],
      "execution_count": null,
      "outputs": [
        {
          "output_type": "execute_result",
          "data": {
            "text/plain": [
              "119.05650178480367"
            ]
          },
          "metadata": {
            "tags": []
          },
          "execution_count": 16
        }
      ]
    },
    {
      "cell_type": "code",
      "metadata": {
        "colab": {
          "base_uri": "https://localhost:8080/"
        },
        "id": "PE6S-NGjWMvG",
        "outputId": "8967a642-3f26-4f2c-9641-7ddab8c0a888"
      },
      "source": [
        "train.columns"
      ],
      "execution_count": null,
      "outputs": [
        {
          "output_type": "execute_result",
          "data": {
            "text/plain": [
              "Index(['claim', 'top_k', 'label', 'explanation', 'index', 'clean_top_k',\n",
              "       'Length', 'Word_count'],\n",
              "      dtype='object')"
            ]
          },
          "metadata": {
            "tags": []
          },
          "execution_count": 17
        }
      ]
    },
    {
      "cell_type": "code",
      "metadata": {
        "colab": {
          "base_uri": "https://localhost:8080/",
          "height": 69
        },
        "id": "E-qnVzNDS2gM",
        "outputId": "27ea8fd7-13b7-4368-cd7f-d9de8fbb8158"
      },
      "source": [
        "train.clean_top_k[8]"
      ],
      "execution_count": null,
      "outputs": [
        {
          "output_type": "execute_result",
          "data": {
            "application/vnd.google.colaboratory.intrinsic+json": {
              "type": "string"
            },
            "text/plain": [
              "'JJ in court filings in the Leavitt case said that fibers found in the Korean talc or any of its other cosmetic talc could not be classified as asbestos and referred to them as nonasbestos forms that its experts say are harmless Both forms often occur together and in talc deposits The report prompted a stock selloff on fears of JJ’s liability Geologically some asbestos can occur as “nonasbestiform” rocks A lawyer for JJ will make his opening remarks on Tuesday'"
            ]
          },
          "metadata": {
            "tags": []
          },
          "execution_count": 18
        }
      ]
    },
    {
      "cell_type": "markdown",
      "metadata": {
        "id": "KBdXKiccgzax"
      },
      "source": [
        "#### **Checking the sentence length distribution**\n",
        "\n",
        "* We'll pad the sentence which as longer than the max_length and add truncation also while doing tokenization process.\n",
        "\n"
      ]
    },
    {
      "cell_type": "code",
      "metadata": {
        "colab": {
          "base_uri": "https://localhost:8080/",
          "height": 333
        },
        "id": "hlf7_LftKs2N",
        "outputId": "514aa94a-9c1e-48c1-90dd-25aff7f9f817"
      },
      "source": [
        "token_lens = []\n",
        "for txt in train.clean_top_k:\n",
        "  tokens = tokenizer.encode(txt, max_length=512)\n",
        "  token_lens.append(len(tokens))\n",
        "\n",
        "sns.distplot(token_lens)\n",
        "plt.xlim([0, 512]);\n",
        "plt.xlabel('Token count');"
      ],
      "execution_count": null,
      "outputs": [
        {
          "output_type": "stream",
          "text": [
            "/usr/local/lib/python3.7/dist-packages/seaborn/distributions.py:2557: FutureWarning: `distplot` is a deprecated function and will be removed in a future version. Please adapt your code to use either `displot` (a figure-level function with similar flexibility) or `histplot` (an axes-level function for histograms).\n",
            "  warnings.warn(msg, FutureWarning)\n"
          ],
          "name": "stderr"
        },
        {
          "output_type": "display_data",
          "data": {
            "image/png": "[encoded data removed]",
            "text/plain": [
              "<Figure size 432x288 with 1 Axes>"
            ]
          },
          "metadata": {
            "tags": [],
            "needs_background": "light"
          }
        }
      ]
    },
    {
      "cell_type": "code",
      "metadata": {
        "colab": {
          "base_uri": "https://localhost:8080/",
          "height": 336
        },
        "id": "bkwR9rH2cGAx",
        "outputId": "078398f4-e311-4761-e15f-4f67182b2d54"
      },
      "source": [
        "token_lens = []\n",
        "for txt in validation.clean_top_k:\n",
        "  tokens = tokenizer.encode(txt, max_length=512)\n",
        "  token_lens.append(len(tokens))\n",
        "\n",
        "sns.distplot(token_lens)\n",
        "plt.xlim([0, 512]);\n",
        "plt.xlabel('Token count');"
      ],
      "execution_count": null,
      "outputs": [
        {
          "output_type": "stream",
          "text": [
            "/usr/local/lib/python3.7/dist-packages/seaborn/distributions.py:2557: FutureWarning: `distplot` is a deprecated function and will be removed in a future version. Please adapt your code to use either `displot` (a figure-level function with similar flexibility) or `histplot` (an axes-level function for histograms).\n",
            "  warnings.warn(msg, FutureWarning)\n"
          ],
          "name": "stderr"
        },
        {
          "output_type": "display_data",
          "data": {
            "image/png": "[encoded data removed]",
            "text/plain": [
              "<Figure size 432x288 with 1 Axes>"
            ]
          },
          "metadata": {
            "tags": [],
            "needs_background": "light"
          }
        }
      ]
    },
    {
      "cell_type": "markdown",
      "metadata": {
        "id": "usiLne3qa375"
      },
      "source": [
        "#### **Note📒: From the Above we find out that average length of the token is around 120 and few sentences have a length of 500 plus.**"
      ]
    },
    {
      "cell_type": "code",
      "metadata": {
        "id": "TDjBBPm3t_PC"
      },
      "source": [
        "# Getting a single sample to check tokenization process\n",
        "claim = train.iloc[12].claim\n",
        "evidence = train.iloc[12].top_k"
      ],
      "execution_count": null,
      "outputs": []
    },
    {
      "cell_type": "code",
      "metadata": {
        "id": "eWuBhUVauW1Z",
        "colab": {
          "base_uri": "https://localhost:8080/"
        },
        "outputId": "9da1c1a5-2fed-4d45-b7fb-a3e7202f1254"
      },
      "source": [
        "input1 = tokenizer.encode_plus(claim+evidence, padding=True, truncation=True, return_tensors='pt')\n",
        "# Viewing Tokenized Representation of one sample\n",
        "input1"
      ],
      "execution_count": null,
      "outputs": [
        {
          "output_type": "execute_result",
          "data": {
            "text/plain": [
              "{'input_ids': tensor([[  102,  4559,  2985, 14643,  3814, 30118,   190,  2016,  6120, 16916,\n",
              "         12126, 10996,   111,  8541,   131,  7939,  2296,   121,  1745,  4927,\n",
              "           123,   145,  1471,  2761, 10424, 30107,   422, 29143, 24765,   422,\n",
              "           137,  2206,  1594, 30126, 13896,  1525, 22856,   546,   220,  1427,\n",
              "           168, 13543,   205,   256,  5459,   112,  1558,   627, 22914,   345,\n",
              "           168,   111, 16124,   131,  1558,   627, 22914,   345,   205,   137,\n",
              "           198,  5459,   112,   302,  1248,   627, 22914,   345,   205,   256,\n",
              "         16167,   899,  4260,   205,   256,  5459,   112,   302,  5425, 20177,\n",
              "           205,   256, 16167, 10954,   205,   103]]), 'token_type_ids': tensor([[0, 0, 0, 0, 0, 0, 0, 0, 0, 0, 0, 0, 0, 0, 0, 0, 0, 0, 0, 0, 0, 0, 0, 0,\n",
              "         0, 0, 0, 0, 0, 0, 0, 0, 0, 0, 0, 0, 0, 0, 0, 0, 0, 0, 0, 0, 0, 0, 0, 0,\n",
              "         0, 0, 0, 0, 0, 0, 0, 0, 0, 0, 0, 0, 0, 0, 0, 0, 0, 0, 0, 0, 0, 0, 0, 0,\n",
              "         0, 0, 0, 0, 0, 0, 0, 0, 0, 0, 0, 0, 0, 0]]), 'attention_mask': tensor([[1, 1, 1, 1, 1, 1, 1, 1, 1, 1, 1, 1, 1, 1, 1, 1, 1, 1, 1, 1, 1, 1, 1, 1,\n",
              "         1, 1, 1, 1, 1, 1, 1, 1, 1, 1, 1, 1, 1, 1, 1, 1, 1, 1, 1, 1, 1, 1, 1, 1,\n",
              "         1, 1, 1, 1, 1, 1, 1, 1, 1, 1, 1, 1, 1, 1, 1, 1, 1, 1, 1, 1, 1, 1, 1, 1,\n",
              "         1, 1, 1, 1, 1, 1, 1, 1, 1, 1, 1, 1, 1, 1]])}"
            ]
          },
          "metadata": {
            "tags": []
          },
          "execution_count": 22
        }
      ]
    },
    {
      "cell_type": "markdown",
      "metadata": {
        "id": "QO1I-Lpuxuje"
      },
      "source": [
        "#### **Converting the categorical targets to Numeric targets for simplicity.**\n",
        "\n",
        "```\n",
        "\"label\":[\n",
        "0:\"false\"\n",
        "1:\"True\"\n",
        "2:\"mixture\"\n",
        "3:\"unproven\"\n",
        "]\n",
        "```\n",
        "\n",
        "\n"
      ]
    },
    {
      "cell_type": "code",
      "metadata": {
        "id": "G9JQT1WVC7Dr"
      },
      "source": [
        "def to_sentiment(rating):\n",
        "    rating = str(rating)\n",
        "    if rating == 'false':\n",
        "        return 0\n",
        "    elif rating == 'mixture':\n",
        "        return 2\n",
        "    elif rating == 'true': \n",
        "        return 1\n",
        "    else:\n",
        "        return 3\n",
        "\n",
        "train['label'] = train.label.apply(to_sentiment)\n",
        "validation['label'] = validation.label.apply(to_sentiment)\n",
        "test['label'] = test.label.apply(to_sentiment)"
      ],
      "execution_count": null,
      "outputs": []
    },
    {
      "cell_type": "markdown",
      "metadata": {
        "id": "9DIGeqcY3XiL"
      },
      "source": [
        "#### **Checking the class Distribution in the datset.**"
      ]
    },
    {
      "cell_type": "code",
      "metadata": {
        "colab": {
          "base_uri": "https://localhost:8080/",
          "height": 350
        },
        "id": "WVRJK6rp1q67",
        "outputId": "47f903be-5022-4ea1-b5fe-6e35567a0333"
      },
      "source": [
        "sns.countplot(train[\"label\"])"
      ],
      "execution_count": null,
      "outputs": [
        {
          "output_type": "stream",
          "text": [
            "/usr/local/lib/python3.7/dist-packages/seaborn/_decorators.py:43: FutureWarning: Pass the following variable as a keyword arg: x. From version 0.12, the only valid positional argument will be `data`, and passing other arguments without an explicit keyword will result in an error or misinterpretation.\n",
            "  FutureWarning\n"
          ],
          "name": "stderr"
        },
        {
          "output_type": "execute_result",
          "data": {
            "text/plain": [
              "<matplotlib.axes._subplots.AxesSubplot at 0x7f182a5fe410>"
            ]
          },
          "metadata": {
            "tags": []
          },
          "execution_count": 24
        },
        {
          "output_type": "display_data",
          "data": {
            "image/png": "[encoded data removed]",
            "text/plain": [
              "<Figure size 432x288 with 1 Axes>"
            ]
          },
          "metadata": {
            "tags": [],
            "needs_background": "light"
          }
        }
      ]
    },
    {
      "cell_type": "markdown",
      "metadata": {
        "id": "AGUrTyA44U5B"
      },
      "source": [
        "As you can see above there is a class imbalance problem present in the dataset. So we are using text augumentation to overcome the imbalance problem."
      ]
    },
    {
      "cell_type": "markdown",
      "metadata": {
        "id": "jnU2XMKQ0waw"
      },
      "source": [
        "#4. Text Augumentation:\n",
        "* Here we introduce text augumention to overcome the class imbalance problem.\n",
        "* Uncomment and run the below cell to use augumentation.\n",
        "* Here we use NLPAUG for Augumentation.\n"
      ]
    },
    {
      "cell_type": "code",
      "metadata": {
        "id": "8M6FVxf-DCql"
      },
      "source": [
        "# !pip install --quiet nlpaug\n",
        "# import nlpaug.augmenter.char as nac\n",
        "# import nlpaug.augmenter.word as naw\n",
        "# import nlpaug.augmenter.sentence as nas\n",
        "# import nlpaug.flow as nafc\n",
        "# import nltk\n",
        "# nltk.download('averaged_perceptron_tagger') \n",
        "# nltk.download('wordnet')"
      ],
      "execution_count": null,
      "outputs": []
    },
    {
      "cell_type": "code",
      "metadata": {
        "id": "0JF3k7Ctnuw0"
      },
      "source": [
        "# aug = naw.SynonymAug(aug_src='wordnet',aug_max=15)"
      ],
      "execution_count": null,
      "outputs": []
    },
    {
      "cell_type": "code",
      "metadata": {
        "id": "SDQRe_rfNRTa"
      },
      "source": [
        "# def func(df):\n",
        "\n",
        "#   augmented_sentences=[]\n",
        "#   augmented_sentences_labels=[]\n",
        "\n",
        "#   for i in range(len(df)):\n",
        "#     row = df.iloc[i]\n",
        "#     if row.label==3:\n",
        "#       temps=aug.augment(str(row.top_k),n=7)\n",
        "#       for sent in temps:\n",
        "#         df2 = {'Unnamed: 0': 10001, 'claim': row.claim, 'top_k': sent, 'label': row.label, 'explanation': row.explanation}\n",
        "#         df = df.append(df2, ignore_index = True)\n",
        "  \n",
        "#   augmented_sentences=[]\n",
        "#   augmented_sentences_labels=[]\n",
        "\n",
        "#   for i in range(len(df)):\n",
        "#     # if count<=210:\n",
        "#     row = df.iloc[i]\n",
        "#     if row.label==2:\n",
        "#       temps=aug.augment(str(row.top_k),n=1)\n",
        "#       df2 = {'Unnamed: 0': 10001, 'claim': row.claim, 'top_k': temps, 'label': row.label, 'explanation': row.explanation}\n",
        "#       df = df.append(df2, ignore_index = True)\n",
        "#   return df"
      ],
      "execution_count": null,
      "outputs": []
    },
    {
      "cell_type": "code",
      "metadata": {
        "id": "wOEyp3FE9vkl"
      },
      "source": [
        "# dummy_train = func(train)\n",
        "# dummy_valid = func(validation)"
      ],
      "execution_count": null,
      "outputs": []
    },
    {
      "cell_type": "code",
      "metadata": {
        "id": "8RW78Ybz94xV"
      },
      "source": [
        "# dummy_train = dummy_train.sample(frac=1).reset_index(drop=True)\n",
        "# dummy_valid = dummy_valid.sample(frac=1).reset_index(drop=True)"
      ],
      "execution_count": null,
      "outputs": []
    },
    {
      "cell_type": "code",
      "metadata": {
        "id": "rQ3LZXxx-Fhq"
      },
      "source": [
        "# sns.countplot(dummy_train.label)"
      ],
      "execution_count": null,
      "outputs": []
    },
    {
      "cell_type": "markdown",
      "metadata": {
        "id": "Oe9_BmWroovZ"
      },
      "source": [
        "* Change train and validation data with dummy_train and dummy_valid to use augumentaion."
      ]
    },
    {
      "cell_type": "markdown",
      "metadata": {
        "id": "x9wAKMQQ_Ju6"
      },
      "source": [
        "#5. Dataset Class:\n",
        "#### Create a class to fetch the data in tokenized form. We need only Input_ids and Attention_mask from the Tokenizer to later feed into our model."
      ]
    },
    {
      "cell_type": "code",
      "metadata": {
        "id": "qcqlEHjrDFoz"
      },
      "source": [
        "class inputData(Dataset):\n",
        "    def __init__(self, df):\n",
        "        self.data = df\n",
        "    \n",
        "    def __len__(self):\n",
        "        return len(self.data)\n",
        "\n",
        "    def __getitem__(self, idx):\n",
        "        #self.data = self.ranking(self.data)\n",
        "        rows = self.data.iloc[idx] # Grab row wise\n",
        "        claims = (str(rows.claim)).lower() # Convert to string and lower it\n",
        "        evidences = (str(rows.clean_top_k)).lower() # Convert to string and lower it\n",
        "        label = rows.label\n",
        "        encoding = tokenizer.encode_plus(\n",
        "            claims+evidences,  # Claim sample along with top 5 evidences \n",
        "            add_special_tokens=True,\n",
        "            max_length=350, # Max length of input tokens\n",
        "            return_token_type_ids=False, \n",
        "            padding='max_length', # If sentence is small padd upto max len i,e 512\n",
        "            return_attention_mask=True, # Where to apply attention through out the sentence\n",
        "            return_tensors='pt', # Retuen tensor for Pytorch\n",
        "            truncation=True, # if sentence is long than max_len than truncation applied.\n",
        "            )\n",
        "        #return claims, evidences\n",
        "        return dict(\n",
        "            input_ids=encoding[\"input_ids\"].flatten(),  # Tokenized inputs \n",
        "            attention_mask=encoding[\"attention_mask\"].flatten(), # Attention mask for Tokenized inputs\n",
        "            labels=torch.tensor(label, dtype=torch.long)\n",
        "        ) "
      ],
      "execution_count": null,
      "outputs": []
    },
    {
      "cell_type": "markdown",
      "metadata": {
        "id": "lnvQJzMsDHxF"
      },
      "source": [
        "#### Fitting data in PyTorch DataLoader"
      ]
    },
    {
      "cell_type": "code",
      "metadata": {
        "id": "x-7p8KTlDtXr"
      },
      "source": [
        "train_data = inputData(train) \n",
        "train_loader = DataLoader(train_data, batch_size=13, shuffle=True, num_workers=2) \n",
        "val_data = inputData(validation)\n",
        "val_loader = DataLoader(val_data, batch_size=13, shuffle=True,num_workers=2)\n",
        "test_data = inputData(test)\n",
        "test_loader = DataLoader(test_data)"
      ],
      "execution_count": null,
      "outputs": []
    },
    {
      "cell_type": "code",
      "metadata": {
        "id": "pxisDIeVRCDK"
      },
      "source": [
        "# next(iter(train_loader))"
      ],
      "execution_count": null,
      "outputs": []
    },
    {
      "cell_type": "markdown",
      "metadata": {
        "id": "vne0YIETEXbw"
      },
      "source": [
        "### We'll wrap our custom dataset into a [LightningDataModule](https://pytorch-lightning.readthedocs.io/en/stable/extensions/datamodules.html).\n",
        "### A DataModule is simply a collection of a train_dataloader, val_dataloader(s), test_dataloader(s) along with the matching transforms and data processing/downloads."
      ]
    },
    {
      "cell_type": "code",
      "metadata": {
        "id": "hv0BzjnTDvld"
      },
      "source": [
        "class veracityModule(pl.LightningDataModule):\n",
        "\n",
        "  def __init__(self, train, test, val, batch_size=13):\n",
        "    super().__init__()\n",
        "    self.batch_size = batch_size\n",
        "    self.train_df = train\n",
        "    self.test_df = test\n",
        "    self.val_df = val\n",
        "\n",
        "  def setup(self, stage=None):\n",
        "    self.train_dataset = inputData(\n",
        "      self.train_df\n",
        "    )\n",
        "\n",
        "    self.test_dataset = inputData(\n",
        "      self.test_df\n",
        "    )\n",
        "\n",
        "    self.val_dataset = inputData(\n",
        "        self.val_df\n",
        "    )\n",
        "\n",
        "  def train_dataloader(self):\n",
        "    return DataLoader(\n",
        "      self.train_dataset,\n",
        "      batch_size=self.batch_size,\n",
        "      shuffle=True,\n",
        "      num_workers=2\n",
        "    )\n",
        "\n",
        "  def val_dataloader(self):\n",
        "    return DataLoader(\n",
        "      self.val_dataset,\n",
        "      batch_size=self.batch_size,\n",
        "      num_workers=2\n",
        "    )\n",
        "\n",
        "  def test_dataloader(self):\n",
        "    return DataLoader(\n",
        "      self.test_dataset,\n",
        "      batch_size=self.batch_size,\n",
        "      num_workers=2\n",
        "    )"
      ],
      "execution_count": null,
      "outputs": []
    },
    {
      "cell_type": "markdown",
      "metadata": {
        "id": "sTVoOlTmeI0j"
      },
      "source": [
        "### veracityModule encapsulates all data loading logic and returns the necessary data loaders. Let’s create an instance of our data module"
      ]
    },
    {
      "cell_type": "code",
      "metadata": {
        "id": "cVU7SV3NFCVv"
      },
      "source": [
        "N_EPOCHS = 5\n",
        "BATCH_SIZE = 13\n",
        "\n",
        "data_module = veracityModule(\n",
        "  train,\n",
        "  test,\n",
        "  validation,\n",
        "  batch_size=BATCH_SIZE,\n",
        ")"
      ],
      "execution_count": null,
      "outputs": []
    },
    {
      "cell_type": "markdown",
      "metadata": {
        "id": "wrWJsM4-_bLx"
      },
      "source": [
        "#6. Model:\n",
        "\n",
        "### Our model will use a pre-trained BertModel and a linear layer to convert the BERT representation to a classification task. We’ll pack everything in a LightningModule."
      ]
    },
    {
      "cell_type": "code",
      "metadata": {
        "id": "QdLZCVOYF2Bl"
      },
      "source": [
        "class veracityPreds(pl.LightningModule):\n",
        " \n",
        "  def __init__(self, n_classes: int, n_training_steps=None, n_warmup_steps=None):\n",
        "    super().__init__()\n",
        "    self.biobert = AutoModel.from_pretrained(\"allenai/scibert_scivocab_uncased\")\n",
        "    self.drop = nn.Dropout(p=0.3) # Add dropout for regularization reduce overfitting \n",
        "    self.classifier = nn.Linear(self.biobert.config.hidden_size, n_classes) # A dense layer with 4 class output\n",
        "    self.n_training_steps = n_training_steps\n",
        "    self.n_warmup_steps = n_warmup_steps\n",
        "    self.criterion = nn.CrossEntropyLoss() # because we have multiclass classification\n",
        " \n",
        "  def forward(self, input_ids, attention_mask, labels=None):\n",
        "    _, pooled_output = self.biobert(input_ids, attention_mask=attention_mask, return_dict=False) # pooler_output (torch.FloatTensor of shape (batch_size, hidden_size)) – Last layer hidden-state of the first token of the sequence (classification token) further processed by a Linear layer and a Tanh activation function.\n",
        "    output = self.classifier(pooled_output)\n",
        "    output = self.drop(output)    \n",
        "    loss = 0\n",
        "    if labels is not None:\n",
        "        loss = self.criterion(output, labels)\n",
        "    return loss, output \n",
        "    # Total loss as the sum of the masked language modeling loss and the next sequence prediction (classification) loss.\n",
        "\n",
        " \n",
        "  def training_step(self, batch, batch_idx):\n",
        "    input_ids = batch[\"input_ids\"]\n",
        "    attention_mask = batch[\"attention_mask\"]\n",
        "    labels = batch[\"labels\"]\n",
        "    loss, outputs = self(input_ids, attention_mask, labels)\n",
        "    self.log(\"train_loss\", loss, prog_bar=True, logger=True)\n",
        "    return {\"loss\": loss, \"predictions\": outputs, \"labels\": labels}\n",
        " \n",
        "  def validation_step(self, batch, batch_idx):\n",
        "    input_ids = batch[\"input_ids\"]\n",
        "    attention_mask = batch[\"attention_mask\"]\n",
        "    labels = batch[\"labels\"]\n",
        "    loss, outputs = self(input_ids, attention_mask, labels)\n",
        "    self.log(\"val_loss\", loss, prog_bar=True, logger=True)\n",
        "    return loss\n",
        " \n",
        "  def test_step(self, batch, batch_idx):\n",
        "    input_ids = batch[\"input_ids\"]\n",
        "    attention_mask = batch[\"attention_mask\"]\n",
        "    labels = batch[\"labels\"]\n",
        "    loss, outputs = self(input_ids, attention_mask, labels)\n",
        "    self.log(\"test_loss\", loss, prog_bar=True, logger=True)\n",
        "    return loss\n",
        " \n",
        "  def training_epoch_end(self, outputs):\n",
        "    \n",
        "    labels = []\n",
        "    predictions = []\n",
        "    for output in outputs:\n",
        "      for out_labels in output[\"labels\"].detach().cpu():\n",
        "        labels.append(out_labels)\n",
        "      for out_predictions in output[\"predictions\"].detach().cpu():\n",
        "        predictions.append(out_predictions)\n",
        " \n",
        "    labels = torch.stack(labels).int()\n",
        "    predictions = torch.stack(predictions)\n",
        " \n",
        " \n",
        "  def configure_optimizers(self):\n",
        " \n",
        "    optimizer = AdamW(self.parameters(), lr=1e-6)\n",
        "    # Create a schedule with a learning rate that decreases linearly from the initial lr set in the optimizer to 0, \n",
        "    #after a warmup period during which it increases linearly from 0 to the initial lr set in the optimizer.\n",
        "    scheduler = get_linear_schedule_with_warmup(\n",
        "      optimizer,\n",
        "      num_warmup_steps=self.n_warmup_steps,\n",
        "      num_training_steps=self.n_training_steps\n",
        "    )\n",
        " \n",
        "    return dict(\n",
        "      optimizer=optimizer,\n",
        "      lr_scheduler=dict(\n",
        "        scheduler=scheduler,\n",
        "        interval='step'\n",
        "      )\n",
        "    )"
      ],
      "execution_count": null,
      "outputs": []
    },
    {
      "cell_type": "markdown",
      "metadata": {
        "id": "6kvjwz4cp9ht"
      },
      "source": [
        "* **A small snippet to show about scheduler concept.**\n",
        "* **The job of a scheduler is to change the learning rate of the optimizer during training. This might lead to better performance of our model. We’ll use the get_linear_schedule_with_warmup.**"
      ]
    },
    {
      "cell_type": "code",
      "metadata": {
        "colab": {
          "base_uri": "https://localhost:8080/",
          "height": 297
        },
        "id": "Cb-ZtACEmw0y",
        "outputId": "33295f83-b7ba-423d-fa9e-2328977e9921"
      },
      "source": [
        "dummy_model = nn.Linear(2, 1)\n",
        "optimizer = AdamW(params=dummy_model.parameters(), lr=0.001)\n",
        "warmup_steps = 20\n",
        "total_training_steps = 100\n",
        "scheduler = get_linear_schedule_with_warmup(\n",
        "  optimizer,\n",
        "  num_warmup_steps=warmup_steps,\n",
        "  num_training_steps=total_training_steps\n",
        ")\n",
        "learning_rate_history = []\n",
        "for step in range(total_training_steps):\n",
        "  optimizer.step()\n",
        "  scheduler.step()\n",
        "  learning_rate_history.append(optimizer.param_groups[0]['lr'])\n",
        "plt.plot(learning_rate_history, label=\"learning rate\")\n",
        "plt.axvline(x=warmup_steps, color=\"red\", linestyle=(0, (5, 10)), label=\"warmup end\")\n",
        "plt.legend()\n",
        "plt.xlabel(\"Step\")\n",
        "plt.ylabel(\"Learning rate\")\n",
        "plt.tight_layout();"
      ],
      "execution_count": null,
      "outputs": [
        {
          "output_type": "display_data",
          "data": {
            "image/png": "[encoded data removed]",
            "text/plain": [
              "<Figure size 432x288 with 1 Axes>"
            ]
          },
          "metadata": {
            "tags": [],
            "needs_background": "light"
          }
        }
      ]
    },
    {
      "cell_type": "code",
      "metadata": {
        "colab": {
          "base_uri": "https://localhost:8080/"
        },
        "id": "sdX0uonIHqDd",
        "outputId": "8bc5d9aa-11f5-400e-8678-59603f2d47a4"
      },
      "source": [
        "device = torch.device(\"cuda\" if torch.cuda.is_available() else \"cpu\")\n",
        "print(device)\n",
        "\n",
        "BATCH_SIZE = 13\n",
        "N_EPOCHS = 5\n",
        "\n",
        "loss_fn = nn.CrossEntropyLoss().to(device)\n",
        "num_training_steps = N_EPOCHS * len(train_loader)\n",
        "steps_per_epoch=len(train) // BATCH_SIZE\n",
        "total_training_steps = steps_per_epoch * N_EPOCHS"
      ],
      "execution_count": null,
      "outputs": [
        {
          "output_type": "stream",
          "text": [
            "cuda\n"
          ],
          "name": "stdout"
        }
      ]
    },
    {
      "cell_type": "markdown",
      "metadata": {
        "id": "LduuOHqkrng3"
      },
      "source": [
        "* **Warm up steps is just a parameter in most of the learning algorithms which is used to lower the learning rate in order to reduce the impact of deviating the model from learning on sudden new data set exposure.**"
      ]
    },
    {
      "cell_type": "code",
      "metadata": {
        "colab": {
          "base_uri": "https://localhost:8080/"
        },
        "id": "8CjLu-DpIwMo",
        "outputId": "2b8084ee-be60-4f1c-d738-a79c99b1efcb"
      },
      "source": [
        "warmup_steps = total_training_steps // 5\n",
        "warmup_steps, total_training_steps"
      ],
      "execution_count": null,
      "outputs": [
        {
          "output_type": "execute_result",
          "data": {
            "text/plain": [
              "(754, 3770)"
            ]
          },
          "metadata": {
            "tags": []
          },
          "execution_count": 45
        }
      ]
    },
    {
      "cell_type": "code",
      "metadata": {
        "id": "rOzKd6u4HWfu",
        "colab": {
          "base_uri": "https://localhost:8080/",
          "height": 66,
          "referenced_widgets": [
            "d13745d1bfda454186d30b198608618d",
            "4005bc6f261e4a468665fbab49211c7a",
            "9b5056eee8f64b23bddeddb0cc8ce27a",
            "f4ed2c8432b9424e8fd2449da0366c33",
            "70b261a8350b4fc1b6ea7df05a148356",
            "a2f57482f5104a6988c017dd693d3b30",
            "5c1996d5e2234999a291db120c7c182f",
            "6a88011cbb654ff8820661264259071f"
          ]
        },
        "outputId": "df2f1d44-4570-4912-9510-d208834650b6"
      },
      "source": [
        "model = veracityPreds(\n",
        "  n_classes=4,\n",
        "  n_warmup_steps=warmup_steps,\n",
        "  n_training_steps=total_training_steps \n",
        ")"
      ],
      "execution_count": null,
      "outputs": [
        {
          "output_type": "display_data",
          "data": {
            "application/vnd.jupyter.widget-view+json": {
              "model_id": "d13745d1bfda454186d30b198608618d",
              "version_minor": 0,
              "version_major": 2
            },
            "text/plain": [
              "HBox(children=(FloatProgress(value=0.0, description='Downloading', max=442221694.0, style=ProgressStyle(descri…"
            ]
          },
          "metadata": {
            "tags": []
          }
        },
        {
          "output_type": "stream",
          "text": [
            "\n"
          ],
          "name": "stdout"
        }
      ]
    },
    {
      "cell_type": "code",
      "metadata": {
        "id": "HTZ-uEsz6spx"
      },
      "source": [
        "#model"
      ],
      "execution_count": null,
      "outputs": []
    },
    {
      "cell_type": "markdown",
      "metadata": {
        "id": "uia7S3-crsQA"
      },
      "source": [
        "* Here we use TensorBoard to get metrics."
      ]
    },
    {
      "cell_type": "code",
      "metadata": {
        "id": "5Gj7sTsSKBBv"
      },
      "source": [
        "# %load_ext tensorboard\n",
        "# %tensorboard --logdir ./lightning_logs"
      ],
      "execution_count": null,
      "outputs": []
    },
    {
      "cell_type": "code",
      "metadata": {
        "id": "HuW6GqRnIsSn"
      },
      "source": [
        "checkpoint_callback = ModelCheckpoint(\n",
        "  dirpath=\"/content/Sci\",\n",
        "  filename=\"best-checkpoint\",\n",
        "  save_top_k=1,\n",
        "  verbose=True,\n",
        "  monitor=\"val_loss\",\n",
        "  mode=\"min\"\n",
        ")"
      ],
      "execution_count": null,
      "outputs": []
    },
    {
      "cell_type": "code",
      "metadata": {
        "id": "wPhMX-KGKI9v"
      },
      "source": [
        "logger = TensorBoardLogger(\"lightning_logs\", name=\"Fact_check\")"
      ],
      "execution_count": null,
      "outputs": []
    },
    {
      "cell_type": "markdown",
      "metadata": {
        "id": "cM80NRhNsiD5"
      },
      "source": [
        "* **And early stopping triggers when the loss hasn’t improved for the last 2 epochs (you might want to remove/reconsider this when training on real-world projects)**"
      ]
    },
    {
      "cell_type": "code",
      "metadata": {
        "id": "j70zFDGeJQoy"
      },
      "source": [
        "early_stopping_callback = EarlyStopping(monitor='val_loss', patience=2) # if loss drop consecutively for 2 epoch than model training will terminate and model'll be saved. "
      ],
      "execution_count": null,
      "outputs": []
    },
    {
      "cell_type": "code",
      "metadata": {
        "id": "2Qml5ktNJJkP"
      },
      "source": [
        "trainer = pl.Trainer(\n",
        "  checkpoint_callback=checkpoint_callback,\n",
        "  callbacks=[checkpoint_callback, early_stopping_callback],\n",
        "  gpus=1,\n",
        "  max_epochs=N_EPOCHS,\n",
        "  progress_bar_refresh_rate=30\n",
        ")"
      ],
      "execution_count": null,
      "outputs": []
    },
    {
      "cell_type": "code",
      "metadata": {
        "id": "oEfOJRY-KOK2"
      },
      "source": [
        "trainer.fit(model, data_module)"
      ],
      "execution_count": null,
      "outputs": []
    },
    {
      "cell_type": "code",
      "metadata": {
        "id": "p3GovPzqpFu4"
      },
      "source": [
        "trainer.test(model) "
      ],
      "execution_count": null,
      "outputs": []
    },
    {
      "cell_type": "code",
      "metadata": {
        "id": "p33ZZ_YTOKAC"
      },
      "source": [
        "class testInput(Dataset):\n",
        "    def __init__(self, df):\n",
        "        self.data = df\n",
        "    \n",
        "    def __len__(self):\n",
        "        return len(self.data)\n",
        "\n",
        "    def __getitem__(self, idx):\n",
        "        #self.data = self.ranking(self.data)\n",
        "        rows = self.data.iloc[idx]\n",
        "        claims = (str(rows.claim)).lower()\n",
        "        evidences = (str(rows.clean_top_k)).lower()\n",
        "        label = rows.label\n",
        "        encoding = tokenizer.encode_plus(\n",
        "            claims,\n",
        "            evidences,\n",
        "            add_special_tokens=True,\n",
        "            max_length=512,\n",
        "            return_token_type_ids=False,\n",
        "            padding='max_length',\n",
        "            return_attention_mask=True,\n",
        "            return_tensors='pt',\n",
        "            truncation=True,\n",
        "            )\n",
        "        #return claims, evidences\n",
        "        return dict(\n",
        "            claims = claims,\n",
        "            input_ids=encoding[\"input_ids\"].flatten(),\n",
        "            attention_mask=encoding[\"attention_mask\"].flatten(),\n",
        "            labels=torch.tensor(label, dtype=torch.long)\n",
        "        )"
      ],
      "execution_count": null,
      "outputs": []
    },
    {
      "cell_type": "code",
      "metadata": {
        "id": "5jw-3Zr4OlGh"
      },
      "source": [
        "# device = 'cpu'"
      ],
      "execution_count": null,
      "outputs": []
    },
    {
      "cell_type": "code",
      "metadata": {
        "id": "Rg5QiXJIqub_"
      },
      "source": [
        "from torch import nn\n",
        "trained_model = veracityPreds.load_from_checkpoint('/content/drive/MyDrive/Sci/best-checkpoint.ckpt', n_classes=4)\n",
        "trained_model.eval()\n",
        "trained_model.freeze()"
      ],
      "execution_count": null,
      "outputs": []
    },
    {
      "cell_type": "code",
      "metadata": {
        "id": "p4gSFPOuORnC"
      },
      "source": [
        "# test_prediction"
      ],
      "execution_count": null,
      "outputs": []
    },
    {
      "cell_type": "code",
      "metadata": {
        "id": "JHAzIeloPt73",
        "colab": {
          "base_uri": "https://localhost:8080/",
          "height": 66,
          "referenced_widgets": [
            "c5c45fa8bbe24727a13c55b357e14c5d",
            "241ca57dd8534c3cafd25f80d20a1228",
            "40b5bbffee284b0daba97dd7a460d008",
            "1f847899dd4d486abbf284338a3330e7",
            "c83d9f6fd80d4df5bde04b71286b1e4d",
            "09ba92df45e342c7a975b05c76e885e6",
            "5f9c31e77c48463a9f0488f285548e02",
            "a7f9e561db064a59a11c2c27585824f7"
          ]
        },
        "outputId": "3a9e54fa-4f5b-4736-95c2-1295c0817775"
      },
      "source": [
        "from tqdm.auto import tqdm\n",
        "device = torch.device(\"cuda\" if torch.cuda.is_available() else \"cpu\")\n",
        "trained_model = trained_model.to(device)\n",
        "val_dataset = inputData(test)\n",
        "\n",
        "predictions = []\n",
        "labels = []\n",
        "\n",
        "for item in tqdm(val_dataset):\n",
        "  _, prediction = trained_model(\n",
        "    item[\"input_ids\"].unsqueeze(dim=0).to(device), \n",
        "    item[\"attention_mask\"].unsqueeze(dim=0).to(device)\n",
        "  )\n",
        "  predictions.append(prediction.flatten())\n",
        "  labels.append(item[\"labels\"].int())\n",
        "\n",
        "predictions = torch.stack(predictions).detach().to(\"cpu\")  #cpu()\n",
        "labels = torch.stack(labels).detach().to(\"cpu\")       #cpu()"
      ],
      "execution_count": null,
      "outputs": [
        {
          "output_type": "display_data",
          "data": {
            "application/vnd.jupyter.widget-view+json": {
              "model_id": "c5c45fa8bbe24727a13c55b357e14c5d",
              "version_minor": 0,
              "version_major": 2
            },
            "text/plain": [
              "HBox(children=(FloatProgress(value=0.0, max=1233.0), HTML(value='')))"
            ]
          },
          "metadata": {
            "tags": []
          }
        },
        {
          "output_type": "stream",
          "text": [
            "\n"
          ],
          "name": "stdout"
        }
      ]
    },
    {
      "cell_type": "code",
      "metadata": {
        "id": "l_DZkD9ZQGwW",
        "colab": {
          "base_uri": "https://localhost:8080/"
        },
        "outputId": "95ee9d7f-b56d-4724-df9b-61d178cd52d5"
      },
      "source": [
        "accuracy(predictions, labels, threshold=0.5) "
      ],
      "execution_count": null,
      "outputs": [
        {
          "output_type": "execute_result",
          "data": {
            "text/plain": [
              "tensor(0.6472)"
            ]
          },
          "metadata": {
            "tags": []
          },
          "execution_count": 74
        }
      ]
    },
    {
      "cell_type": "code",
      "metadata": {
        "id": "D29K6CUPhNGH",
        "colab": {
          "base_uri": "https://localhost:8080/"
        },
        "outputId": "cbe6af6d-30b1-4db8-ef69-ae5ef3604df9"
      },
      "source": [
        "import torch.nn.functional as F \n",
        "from sklearn.metrics import f1_score, classification_report\n",
        "print(classification_report(labels, torch.argmax(F.softmax(predictions, dim=1), dim=1)))"
      ],
      "execution_count": null,
      "outputs": [
        {
          "output_type": "stream",
          "text": [
            "              precision    recall  f1-score   support\n",
            "\n",
            "           0       0.53      0.81      0.64       388\n",
            "           1       0.77      0.79      0.78       599\n",
            "           2       0.47      0.03      0.06       201\n",
            "           3       0.00      0.00      0.00        45\n",
            "\n",
            "    accuracy                           0.65      1233\n",
            "   macro avg       0.44      0.41      0.37      1233\n",
            "weighted avg       0.62      0.65      0.59      1233\n",
            "\n"
          ],
          "name": "stdout"
        },
        {
          "output_type": "stream",
          "text": [
            "/usr/local/lib/python3.7/dist-packages/sklearn/metrics/_classification.py:1272: UndefinedMetricWarning: Precision and F-score are ill-defined and being set to 0.0 in labels with no predicted samples. Use `zero_division` parameter to control this behavior.\n",
            "  _warn_prf(average, modifier, msg_start, len(result))\n"
          ],
          "name": "stderr"
        }
      ]
    },
    {
      "cell_type": "code",
      "metadata": {
        "id": "gfTK3lwTikiJ",
        "colab": {
          "base_uri": "https://localhost:8080/",
          "height": 428
        },
        "outputId": "21904b55-7ce7-46eb-920a-42afe4b82e61"
      },
      "source": [
        "from sklearn.metrics import f1_score, confusion_matrix\n",
        "import matplotlib.pyplot as plt \n",
        "import seaborn as sns\n",
        "arr = confusion_matrix(labels, torch.argmax(F.softmax(predictions, dim=1), dim=1))\n",
        "plt.figure(figsize = (10,7));\n",
        "sns.heatmap(arr/np.sum(arr), annot=True, cmap='Blues');"
      ],
      "execution_count": null,
      "outputs": [
        {
          "output_type": "display_data",
          "data": {
            "image/png": "[encoded data removed]",
            "text/plain": [
              "<Figure size 720x504 with 2 Axes>"
            ]
          },
          "metadata": {
            "tags": [],
            "needs_background": "light"
          }
        }
      ]
    },
    {
      "cell_type": "markdown",
      "metadata": {
        "id": "smK30ScB63CV"
      },
      "source": [
        "# Prediction on test sample:"
      ]
    },
    {
      "cell_type": "code",
      "metadata": {
        "id": "f8EWJGS6PCyr"
      },
      "source": [
        "test_sample = test.loc[test['label'] == 1]"
      ],
      "execution_count": null,
      "outputs": []
    },
    {
      "cell_type": "code",
      "metadata": {
        "id": "9isXQVo4rG53",
        "colab": {
          "base_uri": "https://localhost:8080/"
        },
        "outputId": "15bf3c09-d932-46ac-bb9b-b44b9a84158f"
      },
      "source": [
        "test_claim = test_sample.iloc[16].claim\n",
        "test_evidence = test_sample.iloc[16].clean_top_k \n",
        "test_label = test_sample.iloc[16].label\n",
        "print(\"Test Claim ------->\\n\",test_claim)\n",
        "print(\"Test Evidence------>\\n\",test_evidence)\n",
        "print(\"True Lable-------->\\n\", test_label)\n",
        "\n",
        "encoding = tokenizer.encode_plus(\n",
        "  test_claim+test_evidence,\n",
        "  add_special_tokens=True,\n",
        "  max_length=512,\n",
        "  return_token_type_ids=False,\n",
        "  padding=\"max_length\",\n",
        "  return_attention_mask=True,\n",
        "  return_tensors='pt',\n",
        ")\n",
        "\n",
        "x, test_prediction = trained_model(encoding[\"input_ids\"].to(device), encoding[\"attention_mask\"].to(device))\n",
        "test_prediction = test_prediction.flatten().detach().to(\"cpu\").numpy()\n",
        "\n",
        "# Prediction \n",
        "print(\"Predicted Label:\",np.argmax(test_prediction))"
      ],
      "execution_count": null,
      "outputs": [
        {
          "output_type": "stream",
          "text": [
            "Test Claim ------->\n",
            " Prince Harry joins Elton John to launch HIV campaign targeting men.\n",
            "Test Evidence------>\n",
            " Speaking at the launch which also featured South African actress Charlize Theron and Ndaba Mandela the grandson of late President Nelson Mandela Elton John said “If we want to end AIDS once and for all we must make men part of the solution”  Around  million people around the world have HIV according to  figures cited by the United Nations’ HIVAIDS body UNAIDS UNAIDS said this month that the fight against HIVAIDS was “slipping off track” and while deaths were falling and treatment rates rising rates of new HIV infections threatened to derail efforts to defeat the disease “It is time there was a global coalition to teach men to protect themselves “MenStar” is supported by the US government’s PEPFAR program for tackling HIVAIDS and by the Bill and Melinda Gates Foundation Fewer than half of men living with HIV receive treatment compared with  percent of women it said\n",
            "True Lable-------->\n",
            " 1\n",
            "Predicted Label: 1\n"
          ],
          "name": "stdout"
        }
      ]
    },
    {
      "cell_type": "code",
      "metadata": {
        "id": "_GwRCb16aKuM"
      },
      "source": [
        "# labels.shape"
      ],
      "execution_count": null,
      "outputs": []
    },
    {
      "cell_type": "code",
      "metadata": {
        "id": "YSdCnOWrZN2v"
      },
      "source": [
        "# torch.argmax(F.softmax(predictions, dim=1), dim=1).shape"
      ],
      "execution_count": null,
      "outputs": []
    },
    {
      "cell_type": "code",
      "metadata": {
        "id": "xiO7NGCdoGP4",
        "colab": {
          "base_uri": "https://localhost:8080/"
        },
        "outputId": "5b1926f8-8df0-4aec-b034-f3d8785dd711"
      },
      "source": [
        "review_text = test_sample.iloc[6].claim\n",
        "review_top = test_sample.iloc[6].clean_top_k\n",
        "review_label = test_sample.iloc[6].label\n",
        "\n",
        "print(review_text)\n",
        "print(review_top)\n",
        "print(review_label)"
      ],
      "execution_count": null,
      "outputs": [
        {
          "output_type": "stream",
          "text": [
            "Lawmakers consider spending, saving $128.5 million surplus.\n",
            "Republican House Leader and gubernatorial candidate Ken Fredette claims Democrats are now rushing to increase state spending and grow government Democratic House Speaker Sara Gideon says Maine’s fiscal health is only as meaningful as the health of its people at a time of an opioid epidemic and a workforce shortage Republicans are praising conservative fiscal policies and the elimination of a voterapproved surtax on the wealthy Lawmakers consider spending saving  million surplus Democratic Rep Drew Gattine says the surplus is a chance for a serious discussion about addressing issues like access to health care after voters approved Medicaid expansion in November\n",
            "1\n"
          ],
          "name": "stdout"
        }
      ]
    },
    {
      "cell_type": "code",
      "metadata": {
        "id": "w781JDzPpt2h"
      },
      "source": [
        "encoded_review = tokenizer.encode_plus(\n",
        "    review_text+review_top,\n",
        "    add_special_tokens=True,\n",
        "    max_length=512,\n",
        "    return_token_type_ids=False,\n",
        "    padding='max_length',\n",
        "    return_attention_mask=True,\n",
        "    return_tensors='pt',\n",
        "    truncation=True,\n",
        "    )\n",
        "\n",
        "\n",
        "input_ids = encoded_review['input_ids'].to(device)\n",
        "attention_mask = encoded_review['attention_mask'].to(device)\n",
        "\n",
        "class_names = ['false', 'true', 'mixture', 'unproven']\n",
        "\n",
        "output = trained_model(input_ids, attention_mask)\n",
        "prediction,_ = output\n",
        "\n",
        "print(f'Review text: {review_text}')\n",
        "print(f'Sentiment  : {class_names[prediction]}')"
      ],
      "execution_count": null,
      "outputs": []
    },
    {
      "cell_type": "code",
      "metadata": {
        "id": "kjtxwMrJhUkb"
      },
      "source": [
        "# import torch.nn.functional as F\n",
        "# cnt = 0\n",
        "# for i in test_loader:\n",
        "#   if cnt<5:\n",
        "#     input_id = i['input_ids']\n",
        "#     att_mask = i['attention_mask']\n",
        "#     out = trained_model(input_id, att_mask)\n",
        "#     soft = F.softmax(out[1], dim=1)\n",
        "#     print(\"Softmax output: \", soft)\n",
        "#     print(\"Prediction: \", torch.argmax(soft, dim=1).item())\n",
        "#     cnt+=1\n",
        "#   else:\n",
        "#     break"
      ],
      "execution_count": null,
      "outputs": []
    },
    {
      "cell_type": "markdown",
      "metadata": {
        "id": "08lAsS5y-Y0O"
      },
      "source": [
        "# Conclusion:\n",
        "\n",
        "* Our Model properly generalize the True and False class, But its can poorly to generalize on the Mixture and Unproven Class.\n",
        "* This is why we introduce use text Augumentation to overcome class imbalance probelm in NLP dataset.\n",
        "* We tested the model on augumented data also and it generalize the Mixture and Unproven class a little bit better but the overall accuracy is decreasing. So we prefer to work on actutal data.\n"
      ]
    }
  ]
}